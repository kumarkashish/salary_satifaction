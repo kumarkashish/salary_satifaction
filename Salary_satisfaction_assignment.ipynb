{
 "cells": [
  {
   "cell_type": "code",
   "execution_count": 453,
   "metadata": {},
   "outputs": [],
   "source": [
    "import pandas as pd\n",
    "import seaborn as sns\n",
    "import numpy as np\n",
    "import matplotlib.pyplot as plt\n",
    "%matplotlib inline\n",
    "\n",
    "import warnings\n",
    "warnings.filterwarnings(\"ignore\")"
   ]
  },
  {
   "cell_type": "code",
   "execution_count": 454,
   "metadata": {},
   "outputs": [
    {
     "data": {
      "text/html": [
       "<div>\n",
       "<style scoped>\n",
       "    .dataframe tbody tr th:only-of-type {\n",
       "        vertical-align: middle;\n",
       "    }\n",
       "\n",
       "    .dataframe tbody tr th {\n",
       "        vertical-align: top;\n",
       "    }\n",
       "\n",
       "    .dataframe thead th {\n",
       "        text-align: right;\n",
       "    }\n",
       "</style>\n",
       "<table border=\"1\" class=\"dataframe\">\n",
       "  <thead>\n",
       "    <tr style=\"text-align: right;\">\n",
       "      <th></th>\n",
       "      <th>id</th>\n",
       "      <th>Target_Salary</th>\n",
       "      <th>Target_Satisfied</th>\n",
       "      <th>LOAN_AMT</th>\n",
       "      <th>Business Title</th>\n",
       "      <th>Civil Service Title</th>\n",
       "      <th>Division/Work Unit</th>\n",
       "      <th>Job Description</th>\n",
       "      <th>Minimum Qual Requirements</th>\n",
       "      <th>Preferred Skills</th>\n",
       "      <th>Additional Information</th>\n",
       "      <th>To Apply</th>\n",
       "      <th>Hours/Shift</th>\n",
       "      <th>Residency Requirement</th>\n",
       "      <th>Posting Date</th>\n",
       "      <th>Posting Updated</th>\n",
       "      <th>Process Date</th>\n",
       "      <th>FormalEducation</th>\n",
       "      <th>UndergradMajor</th>\n",
       "      <th>CompanySize</th>\n",
       "      <th>DevType</th>\n",
       "      <th>YearsCoding</th>\n",
       "      <th>YearsCodingProf</th>\n",
       "      <th>HopeFiveYears</th>\n",
       "      <th>JobSearchStatus</th>\n",
       "      <th>LastNewJob</th>\n",
       "      <th>UpdateCV</th>\n",
       "      <th>CommunicationTools</th>\n",
       "      <th>TimeFullyProductive</th>\n",
       "      <th>EducationTypes</th>\n",
       "      <th>SelfTaughtTypes</th>\n",
       "      <th>TimeAfterBootcamp</th>\n",
       "      <th>HackathonReasons</th>\n",
       "      <th>AgreeDisagree1</th>\n",
       "      <th>AgreeDisagree2</th>\n",
       "      <th>AgreeDisagree3</th>\n",
       "      <th>LanguageWorkedWith</th>\n",
       "      <th>LanguageDesireNextYear</th>\n",
       "      <th>DatabaseWorkedWith</th>\n",
       "      <th>DatabaseDesireNextYear</th>\n",
       "      <th>PlatformWorkedWith</th>\n",
       "      <th>PlatformDesireNextYear</th>\n",
       "      <th>FrameworkWorkedWith</th>\n",
       "      <th>FrameworkDesireNextYear</th>\n",
       "      <th>IDE</th>\n",
       "      <th>OperatingSystem</th>\n",
       "      <th>Methodology</th>\n",
       "      <th>VersionControl</th>\n",
       "      <th>CheckInCode</th>\n",
       "      <th>AIDangerous</th>\n",
       "      <th>AIInteresting</th>\n",
       "      <th>AIResponsible</th>\n",
       "      <th>AIFuture</th>\n",
       "      <th>Age</th>\n",
       "      <th>term</th>\n",
       "      <th>loan_status</th>\n",
       "      <th>pymnt_plan</th>\n",
       "      <th>orignal_website_directory</th>\n",
       "      <th>purpose</th>\n",
       "      <th>title</th>\n",
       "      <th>zip_code</th>\n",
       "      <th>addr_state</th>\n",
       "      <th>dti</th>\n",
       "      <th>earliest_cr_line</th>\n",
       "      <th>last_pymnt_d</th>\n",
       "      <th>last_pymnt_amnt</th>\n",
       "      <th>next_pymnt_d</th>\n",
       "      <th>last_credit_pull_d</th>\n",
       "      <th>Time</th>\n",
       "      <th>emp_length</th>\n",
       "      <th>your_favoritearticle_today</th>\n",
       "      <th>url</th>\n",
       "      <th>Email</th>\n",
       "      <th>homeaddress</th>\n",
       "      <th>latitude</th>\n",
       "      <th>longitude</th>\n",
       "      <th>PHONE</th>\n",
       "      <th>officeaddress</th>\n",
       "      <th>website</th>\n",
       "      <th>dateAdded</th>\n",
       "      <th>previousaddress</th>\n",
       "      <th>phones</th>\n",
       "      <th>CrimeTime</th>\n",
       "    </tr>\n",
       "  </thead>\n",
       "  <tbody>\n",
       "    <tr>\n",
       "      <th>0</th>\n",
       "      <td>68407277</td>\n",
       "      <td>42405.00</td>\n",
       "      <td>0</td>\n",
       "      <td>$3,600.00</td>\n",
       "      <td>Account Manager</td>\n",
       "      <td>CONTRACT REVIEWER (OFFICE OF L</td>\n",
       "      <td>Strategy &amp; Analytics</td>\n",
       "      <td>Division of Economic &amp; Financial Opportunity (...</td>\n",
       "      <td>1.\\tA baccalaureate degree from an accredited ...</td>\n",
       "      <td>•\\tExcellent interpersonal and organizational ...</td>\n",
       "      <td>Salary range for this position is: $42,405 - $...</td>\n",
       "      <td>NaN</td>\n",
       "      <td>NaN</td>\n",
       "      <td>New York City residency is generally required ...</td>\n",
       "      <td>2011-06-24T00:00:00.000</td>\n",
       "      <td>2011-06-24T00:00:00.000</td>\n",
       "      <td>2019-12-17T00:00:00.000</td>\n",
       "      <td>Bachelor�s degree (BA, BS, B.Eng., etc.)</td>\n",
       "      <td>Mathematics or statistics</td>\n",
       "      <td>20 to 99 employees</td>\n",
       "      <td>Full-stack developer</td>\n",
       "      <td>3-5 years</td>\n",
       "      <td>3-5 years</td>\n",
       "      <td>Working as a founder or co-founder of my own c...</td>\n",
       "      <td>I�m not actively looking, but I am open to new...</td>\n",
       "      <td>Less than a year ago</td>\n",
       "      <td>My job status or other personal status changed</td>\n",
       "      <td>Slack</td>\n",
       "      <td>One to three months</td>\n",
       "      <td>Taught yourself a new language, framework, or ...</td>\n",
       "      <td>The official documentation and/or standards fo...</td>\n",
       "      <td>NaN</td>\n",
       "      <td>To build my professional network</td>\n",
       "      <td>Strongly agree</td>\n",
       "      <td>Strongly agree</td>\n",
       "      <td>Neither Agree nor Disagree</td>\n",
       "      <td>JavaScript;Python;HTML;CSS</td>\n",
       "      <td>JavaScript;Python;HTML;CSS</td>\n",
       "      <td>Redis;SQL Server;MySQL;PostgreSQL;Amazon RDS/A...</td>\n",
       "      <td>Redis;SQL Server;MySQL;PostgreSQL;Amazon RDS/A...</td>\n",
       "      <td>AWS;Azure;Linux;Firebase</td>\n",
       "      <td>AWS;Azure;Linux;Firebase</td>\n",
       "      <td>Django;React</td>\n",
       "      <td>Django;React</td>\n",
       "      <td>Komodo;Vim;Visual Studio Code</td>\n",
       "      <td>Linux-based</td>\n",
       "      <td>Agile;Scrum</td>\n",
       "      <td>Git</td>\n",
       "      <td>Multiple times per day</td>\n",
       "      <td>Artificial intelligence surpassing human intel...</td>\n",
       "      <td>Algorithms making important decisions</td>\n",
       "      <td>The developers or the people creating the AI</td>\n",
       "      <td>I'm excited about the possibilities more than ...</td>\n",
       "      <td>25 - 34 years old</td>\n",
       "      <td>36 months</td>\n",
       "      <td>Fully Paid</td>\n",
       "      <td>n</td>\n",
       "      <td>https://lendingclub.com/browse/loanDetail.acti...</td>\n",
       "      <td>debt_consolidation</td>\n",
       "      <td>Debt consolidation</td>\n",
       "      <td>190xx</td>\n",
       "      <td>PA</td>\n",
       "      <td>5.91</td>\n",
       "      <td>3-Aug</td>\n",
       "      <td>19-Jan</td>\n",
       "      <td>122.67</td>\n",
       "      <td>NaN</td>\n",
       "      <td>19-Mar</td>\n",
       "      <td>3/22/2016 9:51</td>\n",
       "      <td>&lt; 1 year</td>\n",
       "      <td>https://www.reuters.com/article/us-tesla-crash...</td>\n",
       "      <td>nobell.it/70ffb52d079109dca5664cce6f317373782/...</td>\n",
       "      <td>mstephenson@fernandez.com</td>\n",
       "      <td>346 W Magnolia Ave Auburn, AL 36832 US</td>\n",
       "      <td>32.606813</td>\n",
       "      <td>-85.487328</td>\n",
       "      <td>(91) 555 22 82</td>\n",
       "      <td>PO Box 4653, Stockton, California, 95204</td>\n",
       "      <td>http://www.valleybrew.com/</td>\n",
       "      <td>2016-04-22T02:47:48Z</td>\n",
       "      <td>1045 San Pablo Ave</td>\n",
       "      <td>(510) 528-2375</td>\n",
       "      <td>23:30:00</td>\n",
       "    </tr>\n",
       "    <tr>\n",
       "      <th>1</th>\n",
       "      <td>68355089</td>\n",
       "      <td>60740.00</td>\n",
       "      <td>1</td>\n",
       "      <td>$24,700.00</td>\n",
       "      <td>EXECUTIVE DIRECTOR, BUSINESS DEVELOPMENT</td>\n",
       "      <td>ADMINISTRATIVE BUSINESS PROMOT</td>\n",
       "      <td>Tech Talent Pipeline</td>\n",
       "      <td>The New York City Department of Small Business...</td>\n",
       "      <td>1. A baccalaureate degree from an accredited c...</td>\n",
       "      <td>NaN</td>\n",
       "      <td>NaN</td>\n",
       "      <td>In addition to applying through this website, ...</td>\n",
       "      <td>NaN</td>\n",
       "      <td>New York City residency is generally required ...</td>\n",
       "      <td>2012-01-26T00:00:00.000</td>\n",
       "      <td>2012-01-26T00:00:00.000</td>\n",
       "      <td>2019-12-17T00:00:00.000</td>\n",
       "      <td>Bachelor�s degree (BA, BS, B.Eng., etc.)</td>\n",
       "      <td>A natural science (ex. biology, chemistry, phy...</td>\n",
       "      <td>10,000 or more employees</td>\n",
       "      <td>Database administrator;DevOps specialist;Full-...</td>\n",
       "      <td>30 or more years</td>\n",
       "      <td>18-20 years</td>\n",
       "      <td>Working in a different or more specialized tec...</td>\n",
       "      <td>I am actively looking for a job</td>\n",
       "      <td>More than 4 years ago</td>\n",
       "      <td>I saw an employer�s advertisement</td>\n",
       "      <td>Confluence;Office / productivity suite (Micros...</td>\n",
       "      <td>One to three months</td>\n",
       "      <td>Taught yourself a new language, framework, or ...</td>\n",
       "      <td>The official documentation and/or standards fo...</td>\n",
       "      <td>NaN</td>\n",
       "      <td>NaN</td>\n",
       "      <td>Agree</td>\n",
       "      <td>Agree</td>\n",
       "      <td>Neither Agree nor Disagree</td>\n",
       "      <td>JavaScript;Python;Bash/Shell</td>\n",
       "      <td>Go;Python</td>\n",
       "      <td>Redis;PostgreSQL;Memcached</td>\n",
       "      <td>PostgreSQL</td>\n",
       "      <td>Linux</td>\n",
       "      <td>Linux</td>\n",
       "      <td>Django</td>\n",
       "      <td>React</td>\n",
       "      <td>IPython / Jupyter;Sublime Text;Vim</td>\n",
       "      <td>Linux-based</td>\n",
       "      <td>NaN</td>\n",
       "      <td>Git;Subversion</td>\n",
       "      <td>A few times per week</td>\n",
       "      <td>Increasing automation of jobs</td>\n",
       "      <td>Increasing automation of jobs</td>\n",
       "      <td>The developers or the people creating the AI</td>\n",
       "      <td>I'm excited about the possibilities more than ...</td>\n",
       "      <td>35 - 44 years old</td>\n",
       "      <td>36 months</td>\n",
       "      <td>Fully Paid</td>\n",
       "      <td>n</td>\n",
       "      <td>https://lendingclub.com/browse/loanDetail.acti...</td>\n",
       "      <td>small_business</td>\n",
       "      <td>Business</td>\n",
       "      <td>577xx</td>\n",
       "      <td>SD</td>\n",
       "      <td>16.06</td>\n",
       "      <td>Dec-99</td>\n",
       "      <td>16-Jun</td>\n",
       "      <td>926.35</td>\n",
       "      <td>NaN</td>\n",
       "      <td>19-Mar</td>\n",
       "      <td>3/22/2016 10:08</td>\n",
       "      <td>NaN</td>\n",
       "      <td>https://www.irishtimes.com/business/economy/un...</td>\n",
       "      <td>www.dghjdgf.com/paypal.co.uk/cycgi-bin/webscrc...</td>\n",
       "      <td>hduke@hotmail.com</td>\n",
       "      <td>300 20th St S Birmingham, AL 35233 US</td>\n",
       "      <td>33.509721</td>\n",
       "      <td>-86.802756</td>\n",
       "      <td>NaN</td>\n",
       "      <td>157 Adams St., Stockton, California, 95204</td>\n",
       "      <td>http://www.valleybrew.com/</td>\n",
       "      <td>2016-04-22T02:47:48Z</td>\n",
       "      <td>1045 San Pablo Ave</td>\n",
       "      <td>(510) 528-2375</td>\n",
       "      <td>23:00:00</td>\n",
       "    </tr>\n",
       "    <tr>\n",
       "      <th>2</th>\n",
       "      <td>68341763</td>\n",
       "      <td>51907.68</td>\n",
       "      <td>0</td>\n",
       "      <td>$20,000.00</td>\n",
       "      <td>Maintenance Worker - Technical Services-Heatin...</td>\n",
       "      <td>MAINTENANCE WORKER</td>\n",
       "      <td>Management Services Department</td>\n",
       "      <td>Under direct supervision, assist in the routin...</td>\n",
       "      <td>1. Three years of full-time satisfactory exper...</td>\n",
       "      <td>1.  A High School Diploma or GED.  2.  CDL Dri...</td>\n",
       "      <td>1.  A Motor Vehicle Driver’s License valid in ...</td>\n",
       "      <td>Click the \"Apply Now\" button.</td>\n",
       "      <td>NaN</td>\n",
       "      <td>NYCHA has no residency requirements.</td>\n",
       "      <td>2013-10-24T00:00:00.000</td>\n",
       "      <td>2013-12-12T00:00:00.000</td>\n",
       "      <td>2019-12-17T00:00:00.000</td>\n",
       "      <td>Associate degree</td>\n",
       "      <td>Computer science, computer engineering, or sof...</td>\n",
       "      <td>20 to 99 employees</td>\n",
       "      <td>Engineering manager;Full-stack developer</td>\n",
       "      <td>24-26 years</td>\n",
       "      <td>6-8 years</td>\n",
       "      <td>Working as a founder or co-founder of my own c...</td>\n",
       "      <td>I�m not actively looking, but I am open to new...</td>\n",
       "      <td>Less than a year ago</td>\n",
       "      <td>NaN</td>\n",
       "      <td>NaN</td>\n",
       "      <td>NaN</td>\n",
       "      <td>NaN</td>\n",
       "      <td>NaN</td>\n",
       "      <td>NaN</td>\n",
       "      <td>NaN</td>\n",
       "      <td>NaN</td>\n",
       "      <td>NaN</td>\n",
       "      <td>NaN</td>\n",
       "      <td>NaN</td>\n",
       "      <td>NaN</td>\n",
       "      <td>NaN</td>\n",
       "      <td>NaN</td>\n",
       "      <td>NaN</td>\n",
       "      <td>NaN</td>\n",
       "      <td>NaN</td>\n",
       "      <td>NaN</td>\n",
       "      <td>NaN</td>\n",
       "      <td>NaN</td>\n",
       "      <td>NaN</td>\n",
       "      <td>NaN</td>\n",
       "      <td>NaN</td>\n",
       "      <td>NaN</td>\n",
       "      <td>NaN</td>\n",
       "      <td>NaN</td>\n",
       "      <td>NaN</td>\n",
       "      <td>NaN</td>\n",
       "      <td>60 months</td>\n",
       "      <td>Fully Paid</td>\n",
       "      <td>n</td>\n",
       "      <td>https://lendingclub.com/browse/loanDetail.acti...</td>\n",
       "      <td>home_improvement</td>\n",
       "      <td>NaN</td>\n",
       "      <td>605xx</td>\n",
       "      <td>IL</td>\n",
       "      <td>10.78</td>\n",
       "      <td>Aug-00</td>\n",
       "      <td>17-Jun</td>\n",
       "      <td>15813.30</td>\n",
       "      <td>NaN</td>\n",
       "      <td>19-Mar</td>\n",
       "      <td>3/22/2016 10:08</td>\n",
       "      <td>NaN</td>\n",
       "      <td>https://www.irishtimes.com/\\t\\t\\t\\t\\t\\t\\t/life...</td>\n",
       "      <td>serviciosbys.com/paypal.cgi.bin.get-into.herf....</td>\n",
       "      <td>pallen@yahoo.com</td>\n",
       "      <td>3220 Morrow Rd Birmingham, AL 35235 US</td>\n",
       "      <td>33.595581</td>\n",
       "      <td>-86.647437</td>\n",
       "      <td>NaN</td>\n",
       "      <td>1950 W Freemont, Stockton, California, 95203</td>\n",
       "      <td>http://www.valleybrew.com/</td>\n",
       "      <td>2016-04-22T02:47:48Z</td>\n",
       "      <td>1045 San Pablo Ave</td>\n",
       "      <td>(510) 528-2375</td>\n",
       "      <td>22:53:00</td>\n",
       "    </tr>\n",
       "    <tr>\n",
       "      <th>3</th>\n",
       "      <td>66310712</td>\n",
       "      <td>51907.68</td>\n",
       "      <td>0</td>\n",
       "      <td>$35,000.00</td>\n",
       "      <td>Maintenance Worker - Technical Services-Heatin...</td>\n",
       "      <td>MAINTENANCE WORKER</td>\n",
       "      <td>Management Services Department</td>\n",
       "      <td>Under direct supervision, assist in the routin...</td>\n",
       "      <td>1. Three years of full-time satisfactory exper...</td>\n",
       "      <td>1.  A High School Diploma or GED.  2.  CDL Dri...</td>\n",
       "      <td>1.  A Motor Vehicle Driver’s License valid in ...</td>\n",
       "      <td>Click the \"Apply Now\" button.</td>\n",
       "      <td>NaN</td>\n",
       "      <td>NYCHA has no residency requirements.</td>\n",
       "      <td>2013-10-24T00:00:00.000</td>\n",
       "      <td>2013-12-12T00:00:00.000</td>\n",
       "      <td>2019-12-17T00:00:00.000</td>\n",
       "      <td>Bachelor�s degree (BA, BS, B.Eng., etc.)</td>\n",
       "      <td>Computer science, computer engineering, or sof...</td>\n",
       "      <td>100 to 499 employees</td>\n",
       "      <td>Full-stack developer</td>\n",
       "      <td>18-20 years</td>\n",
       "      <td>12-14 years</td>\n",
       "      <td>Working as a founder or co-founder of my own c...</td>\n",
       "      <td>I�m not actively looking, but I am open to new...</td>\n",
       "      <td>Less than a year ago</td>\n",
       "      <td>A recruiter contacted me</td>\n",
       "      <td>NaN</td>\n",
       "      <td>Three to six months</td>\n",
       "      <td>Completed an industry certification program (e...</td>\n",
       "      <td>The official documentation and/or standards fo...</td>\n",
       "      <td>NaN</td>\n",
       "      <td>NaN</td>\n",
       "      <td>Disagree</td>\n",
       "      <td>Disagree</td>\n",
       "      <td>Strongly disagree</td>\n",
       "      <td>C#;JavaScript;SQL;TypeScript;HTML;CSS;Bash/Shell</td>\n",
       "      <td>C#;JavaScript;SQL;TypeScript;HTML;CSS;Bash/Shell</td>\n",
       "      <td>SQL Server;Microsoft Azure (Tables, CosmosDB, ...</td>\n",
       "      <td>SQL Server;Microsoft Azure (Tables, CosmosDB, ...</td>\n",
       "      <td>Azure</td>\n",
       "      <td>Azure</td>\n",
       "      <td>NaN</td>\n",
       "      <td>Angular;.NET Core;React</td>\n",
       "      <td>Visual Studio;Visual Studio Code</td>\n",
       "      <td>Windows</td>\n",
       "      <td>Agile;Kanban;Scrum</td>\n",
       "      <td>Git</td>\n",
       "      <td>Multiple times per day</td>\n",
       "      <td>Artificial intelligence surpassing human intel...</td>\n",
       "      <td>Artificial intelligence surpassing human intel...</td>\n",
       "      <td>A governmental or other regulatory body</td>\n",
       "      <td>I don't care about it, or I haven't thought ab...</td>\n",
       "      <td>35 - 44 years old</td>\n",
       "      <td>60 months</td>\n",
       "      <td>Current</td>\n",
       "      <td>n</td>\n",
       "      <td>https://lendingclub.com/browse/loanDetail.acti...</td>\n",
       "      <td>debt_consolidation</td>\n",
       "      <td>Debt consolidation</td>\n",
       "      <td>076xx</td>\n",
       "      <td>NJ</td>\n",
       "      <td>17.06</td>\n",
       "      <td>8-Sep</td>\n",
       "      <td>19-Feb</td>\n",
       "      <td>829.90</td>\n",
       "      <td>19-Apr</td>\n",
       "      <td>19-Mar</td>\n",
       "      <td>3/22/2016 10:08</td>\n",
       "      <td>10+ years</td>\n",
       "      <td>https://www.aljazeera.com/news/2019/09/north-k...</td>\n",
       "      <td>mail.printakid.com/www.online.americanexpress....</td>\n",
       "      <td>riverarebecca@gmail.com</td>\n",
       "      <td>4719 Highway 280 Birmingham, AL 35242 US</td>\n",
       "      <td>33.422582</td>\n",
       "      <td>-86.698279</td>\n",
       "      <td>2125557818</td>\n",
       "      <td>102 S. State St., Ukiah, California, 95482</td>\n",
       "      <td>http://www.ukiahbrewingco.com/</td>\n",
       "      <td>2016-04-22T02:47:48Z</td>\n",
       "      <td>1045 San Pablo Ave</td>\n",
       "      <td>(510) 528-2375</td>\n",
       "      <td>22:50:00</td>\n",
       "    </tr>\n",
       "  </tbody>\n",
       "</table>\n",
       "</div>"
      ],
      "text/plain": [
       "         id  Target_Salary  Target_Satisfied     LOAN_AMT  \\\n",
       "0  68407277       42405.00                 0   $3,600.00    \n",
       "1  68355089       60740.00                 1  $24,700.00    \n",
       "2  68341763       51907.68                 0  $20,000.00    \n",
       "3  66310712       51907.68                 0  $35,000.00    \n",
       "\n",
       "                                      Business Title  \\\n",
       "0                                    Account Manager   \n",
       "1           EXECUTIVE DIRECTOR, BUSINESS DEVELOPMENT   \n",
       "2  Maintenance Worker - Technical Services-Heatin...   \n",
       "3  Maintenance Worker - Technical Services-Heatin...   \n",
       "\n",
       "              Civil Service Title              Division/Work Unit  \\\n",
       "0  CONTRACT REVIEWER (OFFICE OF L            Strategy & Analytics   \n",
       "1  ADMINISTRATIVE BUSINESS PROMOT            Tech Talent Pipeline   \n",
       "2              MAINTENANCE WORKER  Management Services Department   \n",
       "3              MAINTENANCE WORKER  Management Services Department   \n",
       "\n",
       "                                     Job Description  \\\n",
       "0  Division of Economic & Financial Opportunity (...   \n",
       "1  The New York City Department of Small Business...   \n",
       "2  Under direct supervision, assist in the routin...   \n",
       "3  Under direct supervision, assist in the routin...   \n",
       "\n",
       "                           Minimum Qual Requirements  \\\n",
       "0  1.\\tA baccalaureate degree from an accredited ...   \n",
       "1  1. A baccalaureate degree from an accredited c...   \n",
       "2  1. Three years of full-time satisfactory exper...   \n",
       "3  1. Three years of full-time satisfactory exper...   \n",
       "\n",
       "                                    Preferred Skills  \\\n",
       "0  •\\tExcellent interpersonal and organizational ...   \n",
       "1                                                NaN   \n",
       "2  1.  A High School Diploma or GED.  2.  CDL Dri...   \n",
       "3  1.  A High School Diploma or GED.  2.  CDL Dri...   \n",
       "\n",
       "                              Additional Information  \\\n",
       "0  Salary range for this position is: $42,405 - $...   \n",
       "1                                                NaN   \n",
       "2  1.  A Motor Vehicle Driver’s License valid in ...   \n",
       "3  1.  A Motor Vehicle Driver’s License valid in ...   \n",
       "\n",
       "                                            To Apply Hours/Shift  \\\n",
       "0                                                NaN         NaN   \n",
       "1  In addition to applying through this website, ...         NaN   \n",
       "2                      Click the \"Apply Now\" button.         NaN   \n",
       "3                      Click the \"Apply Now\" button.         NaN   \n",
       "\n",
       "                               Residency Requirement             Posting Date  \\\n",
       "0  New York City residency is generally required ...  2011-06-24T00:00:00.000   \n",
       "1  New York City residency is generally required ...  2012-01-26T00:00:00.000   \n",
       "2               NYCHA has no residency requirements.  2013-10-24T00:00:00.000   \n",
       "3               NYCHA has no residency requirements.  2013-10-24T00:00:00.000   \n",
       "\n",
       "           Posting Updated             Process Date  \\\n",
       "0  2011-06-24T00:00:00.000  2019-12-17T00:00:00.000   \n",
       "1  2012-01-26T00:00:00.000  2019-12-17T00:00:00.000   \n",
       "2  2013-12-12T00:00:00.000  2019-12-17T00:00:00.000   \n",
       "3  2013-12-12T00:00:00.000  2019-12-17T00:00:00.000   \n",
       "\n",
       "                            FormalEducation  \\\n",
       "0  Bachelor�s degree (BA, BS, B.Eng., etc.)   \n",
       "1  Bachelor�s degree (BA, BS, B.Eng., etc.)   \n",
       "2                          Associate degree   \n",
       "3  Bachelor�s degree (BA, BS, B.Eng., etc.)   \n",
       "\n",
       "                                      UndergradMajor  \\\n",
       "0                          Mathematics or statistics   \n",
       "1  A natural science (ex. biology, chemistry, phy...   \n",
       "2  Computer science, computer engineering, or sof...   \n",
       "3  Computer science, computer engineering, or sof...   \n",
       "\n",
       "                CompanySize  \\\n",
       "0        20 to 99 employees   \n",
       "1  10,000 or more employees   \n",
       "2        20 to 99 employees   \n",
       "3      100 to 499 employees   \n",
       "\n",
       "                                             DevType       YearsCoding  \\\n",
       "0                               Full-stack developer         3-5 years   \n",
       "1  Database administrator;DevOps specialist;Full-...  30 or more years   \n",
       "2           Engineering manager;Full-stack developer       24-26 years   \n",
       "3                               Full-stack developer       18-20 years   \n",
       "\n",
       "  YearsCodingProf                                      HopeFiveYears  \\\n",
       "0       3-5 years  Working as a founder or co-founder of my own c...   \n",
       "1     18-20 years  Working in a different or more specialized tec...   \n",
       "2       6-8 years  Working as a founder or co-founder of my own c...   \n",
       "3     12-14 years  Working as a founder or co-founder of my own c...   \n",
       "\n",
       "                                     JobSearchStatus             LastNewJob  \\\n",
       "0  I�m not actively looking, but I am open to new...   Less than a year ago   \n",
       "1                    I am actively looking for a job  More than 4 years ago   \n",
       "2  I�m not actively looking, but I am open to new...   Less than a year ago   \n",
       "3  I�m not actively looking, but I am open to new...   Less than a year ago   \n",
       "\n",
       "                                         UpdateCV  \\\n",
       "0  My job status or other personal status changed   \n",
       "1               I saw an employer�s advertisement   \n",
       "2                                             NaN   \n",
       "3                        A recruiter contacted me   \n",
       "\n",
       "                                  CommunicationTools  TimeFullyProductive  \\\n",
       "0                                              Slack  One to three months   \n",
       "1  Confluence;Office / productivity suite (Micros...  One to three months   \n",
       "2                                                NaN                  NaN   \n",
       "3                                                NaN  Three to six months   \n",
       "\n",
       "                                      EducationTypes  \\\n",
       "0  Taught yourself a new language, framework, or ...   \n",
       "1  Taught yourself a new language, framework, or ...   \n",
       "2                                                NaN   \n",
       "3  Completed an industry certification program (e...   \n",
       "\n",
       "                                     SelfTaughtTypes TimeAfterBootcamp  \\\n",
       "0  The official documentation and/or standards fo...               NaN   \n",
       "1  The official documentation and/or standards fo...               NaN   \n",
       "2                                                NaN               NaN   \n",
       "3  The official documentation and/or standards fo...               NaN   \n",
       "\n",
       "                   HackathonReasons  AgreeDisagree1  AgreeDisagree2  \\\n",
       "0  To build my professional network  Strongly agree  Strongly agree   \n",
       "1                               NaN           Agree           Agree   \n",
       "2                               NaN             NaN             NaN   \n",
       "3                               NaN        Disagree        Disagree   \n",
       "\n",
       "               AgreeDisagree3  \\\n",
       "0  Neither Agree nor Disagree   \n",
       "1  Neither Agree nor Disagree   \n",
       "2                         NaN   \n",
       "3           Strongly disagree   \n",
       "\n",
       "                                 LanguageWorkedWith  \\\n",
       "0                        JavaScript;Python;HTML;CSS   \n",
       "1                      JavaScript;Python;Bash/Shell   \n",
       "2                                               NaN   \n",
       "3  C#;JavaScript;SQL;TypeScript;HTML;CSS;Bash/Shell   \n",
       "\n",
       "                             LanguageDesireNextYear  \\\n",
       "0                        JavaScript;Python;HTML;CSS   \n",
       "1                                         Go;Python   \n",
       "2                                               NaN   \n",
       "3  C#;JavaScript;SQL;TypeScript;HTML;CSS;Bash/Shell   \n",
       "\n",
       "                                  DatabaseWorkedWith  \\\n",
       "0  Redis;SQL Server;MySQL;PostgreSQL;Amazon RDS/A...   \n",
       "1                         Redis;PostgreSQL;Memcached   \n",
       "2                                                NaN   \n",
       "3  SQL Server;Microsoft Azure (Tables, CosmosDB, ...   \n",
       "\n",
       "                              DatabaseDesireNextYear  \\\n",
       "0  Redis;SQL Server;MySQL;PostgreSQL;Amazon RDS/A...   \n",
       "1                                         PostgreSQL   \n",
       "2                                                NaN   \n",
       "3  SQL Server;Microsoft Azure (Tables, CosmosDB, ...   \n",
       "\n",
       "         PlatformWorkedWith    PlatformDesireNextYear FrameworkWorkedWith  \\\n",
       "0  AWS;Azure;Linux;Firebase  AWS;Azure;Linux;Firebase        Django;React   \n",
       "1                     Linux                     Linux              Django   \n",
       "2                       NaN                       NaN                 NaN   \n",
       "3                     Azure                     Azure                 NaN   \n",
       "\n",
       "   FrameworkDesireNextYear                                 IDE  \\\n",
       "0             Django;React       Komodo;Vim;Visual Studio Code   \n",
       "1                    React  IPython / Jupyter;Sublime Text;Vim   \n",
       "2                      NaN                                 NaN   \n",
       "3  Angular;.NET Core;React    Visual Studio;Visual Studio Code   \n",
       "\n",
       "  OperatingSystem         Methodology  VersionControl             CheckInCode  \\\n",
       "0     Linux-based         Agile;Scrum             Git  Multiple times per day   \n",
       "1     Linux-based                 NaN  Git;Subversion    A few times per week   \n",
       "2             NaN                 NaN             NaN                     NaN   \n",
       "3         Windows  Agile;Kanban;Scrum             Git  Multiple times per day   \n",
       "\n",
       "                                         AIDangerous  \\\n",
       "0  Artificial intelligence surpassing human intel...   \n",
       "1                      Increasing automation of jobs   \n",
       "2                                                NaN   \n",
       "3  Artificial intelligence surpassing human intel...   \n",
       "\n",
       "                                       AIInteresting  \\\n",
       "0              Algorithms making important decisions   \n",
       "1                      Increasing automation of jobs   \n",
       "2                                                NaN   \n",
       "3  Artificial intelligence surpassing human intel...   \n",
       "\n",
       "                                  AIResponsible  \\\n",
       "0  The developers or the people creating the AI   \n",
       "1  The developers or the people creating the AI   \n",
       "2                                           NaN   \n",
       "3       A governmental or other regulatory body   \n",
       "\n",
       "                                            AIFuture                Age  \\\n",
       "0  I'm excited about the possibilities more than ...  25 - 34 years old   \n",
       "1  I'm excited about the possibilities more than ...  35 - 44 years old   \n",
       "2                                                NaN                NaN   \n",
       "3  I don't care about it, or I haven't thought ab...  35 - 44 years old   \n",
       "\n",
       "         term loan_status pymnt_plan  \\\n",
       "0   36 months  Fully Paid          n   \n",
       "1   36 months  Fully Paid          n   \n",
       "2   60 months  Fully Paid          n   \n",
       "3   60 months     Current          n   \n",
       "\n",
       "                           orignal_website_directory             purpose  \\\n",
       "0  https://lendingclub.com/browse/loanDetail.acti...  debt_consolidation   \n",
       "1  https://lendingclub.com/browse/loanDetail.acti...      small_business   \n",
       "2  https://lendingclub.com/browse/loanDetail.acti...    home_improvement   \n",
       "3  https://lendingclub.com/browse/loanDetail.acti...  debt_consolidation   \n",
       "\n",
       "                title zip_code addr_state    dti earliest_cr_line  \\\n",
       "0  Debt consolidation    190xx         PA   5.91            3-Aug   \n",
       "1            Business    577xx         SD  16.06           Dec-99   \n",
       "2                 NaN    605xx         IL  10.78           Aug-00   \n",
       "3  Debt consolidation    076xx         NJ  17.06            8-Sep   \n",
       "\n",
       "  last_pymnt_d  last_pymnt_amnt next_pymnt_d last_credit_pull_d  \\\n",
       "0       19-Jan           122.67          NaN             19-Mar   \n",
       "1       16-Jun           926.35          NaN             19-Mar   \n",
       "2       17-Jun         15813.30          NaN             19-Mar   \n",
       "3       19-Feb           829.90       19-Apr             19-Mar   \n",
       "\n",
       "              Time emp_length  \\\n",
       "0   3/22/2016 9:51   < 1 year   \n",
       "1  3/22/2016 10:08        NaN   \n",
       "2  3/22/2016 10:08        NaN   \n",
       "3  3/22/2016 10:08  10+ years   \n",
       "\n",
       "                          your_favoritearticle_today  \\\n",
       "0  https://www.reuters.com/article/us-tesla-crash...   \n",
       "1  https://www.irishtimes.com/business/economy/un...   \n",
       "2  https://www.irishtimes.com/\\t\\t\\t\\t\\t\\t\\t/life...   \n",
       "3  https://www.aljazeera.com/news/2019/09/north-k...   \n",
       "\n",
       "                                                 url  \\\n",
       "0  nobell.it/70ffb52d079109dca5664cce6f317373782/...   \n",
       "1  www.dghjdgf.com/paypal.co.uk/cycgi-bin/webscrc...   \n",
       "2  serviciosbys.com/paypal.cgi.bin.get-into.herf....   \n",
       "3  mail.printakid.com/www.online.americanexpress....   \n",
       "\n",
       "                       Email                               homeaddress  \\\n",
       "0  mstephenson@fernandez.com    346 W Magnolia Ave Auburn, AL 36832 US   \n",
       "1          hduke@hotmail.com     300 20th St S Birmingham, AL 35233 US   \n",
       "2           pallen@yahoo.com    3220 Morrow Rd Birmingham, AL 35235 US   \n",
       "3    riverarebecca@gmail.com  4719 Highway 280 Birmingham, AL 35242 US   \n",
       "\n",
       "    latitude  longitude           PHONE  \\\n",
       "0  32.606813 -85.487328  (91) 555 22 82   \n",
       "1  33.509721 -86.802756             NaN   \n",
       "2  33.595581 -86.647437             NaN   \n",
       "3  33.422582 -86.698279      2125557818   \n",
       "\n",
       "                                  officeaddress  \\\n",
       "0      PO Box 4653, Stockton, California, 95204   \n",
       "1    157 Adams St., Stockton, California, 95204   \n",
       "2  1950 W Freemont, Stockton, California, 95203   \n",
       "3    102 S. State St., Ukiah, California, 95482   \n",
       "\n",
       "                          website             dateAdded     previousaddress  \\\n",
       "0      http://www.valleybrew.com/  2016-04-22T02:47:48Z  1045 San Pablo Ave   \n",
       "1      http://www.valleybrew.com/  2016-04-22T02:47:48Z  1045 San Pablo Ave   \n",
       "2      http://www.valleybrew.com/  2016-04-22T02:47:48Z  1045 San Pablo Ave   \n",
       "3  http://www.ukiahbrewingco.com/  2016-04-22T02:47:48Z  1045 San Pablo Ave   \n",
       "\n",
       "           phones CrimeTime  \n",
       "0  (510) 528-2375  23:30:00  \n",
       "1  (510) 528-2375  23:00:00  \n",
       "2  (510) 528-2375  22:53:00  \n",
       "3  (510) 528-2375  22:50:00  "
      ]
     },
     "execution_count": 454,
     "metadata": {},
     "output_type": "execute_result"
    }
   ],
   "source": [
    "\n",
    "pd.set_option('display.max_column', 100)\n",
    "sal= pd.read_csv('salary,satisfaction.csv')\n",
    "sal.head(4)"
   ]
  },
  {
   "cell_type": "code",
   "execution_count": 455,
   "metadata": {},
   "outputs": [
    {
     "data": {
      "text/plain": [
       "0"
      ]
     },
     "execution_count": 455,
     "metadata": {},
     "output_type": "execute_result"
    }
   ],
   "source": [
    "sal.duplicated().sum()"
   ]
  },
  {
   "cell_type": "code",
   "execution_count": 456,
   "metadata": {},
   "outputs": [
    {
     "data": {
      "text/plain": [
       "(2946, 83)"
      ]
     },
     "execution_count": 456,
     "metadata": {},
     "output_type": "execute_result"
    }
   ],
   "source": [
    "sal.shape"
   ]
  },
  {
   "cell_type": "markdown",
   "metadata": {},
   "source": [
    "# Exploratory Data Analysis"
   ]
  },
  {
   "cell_type": "markdown",
   "metadata": {},
   "source": [
    "## Lets check the data type"
   ]
  },
  {
   "cell_type": "code",
   "execution_count": 457,
   "metadata": {},
   "outputs": [
    {
     "data": {
      "text/plain": [
       "id                    int64\n",
       "Target_Salary       float64\n",
       "Target_Satisfied      int64\n",
       "LOAN_AMT             object\n",
       "Business Title       object\n",
       "                     ...   \n",
       "website              object\n",
       "dateAdded            object\n",
       "previousaddress      object\n",
       "phones               object\n",
       "CrimeTime            object\n",
       "Length: 83, dtype: object"
      ]
     },
     "execution_count": 457,
     "metadata": {},
     "output_type": "execute_result"
    }
   ],
   "source": [
    "sal.dtypes"
   ]
  },
  {
   "cell_type": "code",
   "execution_count": 458,
   "metadata": {},
   "outputs": [
    {
     "data": {
      "text/plain": [
       "id                  2946\n",
       "Target_Salary       2946\n",
       "Target_Satisfied    2946\n",
       "LOAN_AMT            2946\n",
       "Business Title      2946\n",
       "                    ... \n",
       "website             2399\n",
       "dateAdded           2946\n",
       "previousaddress     2946\n",
       "phones              2946\n",
       "CrimeTime           2946\n",
       "Length: 83, dtype: int64"
      ]
     },
     "execution_count": 458,
     "metadata": {},
     "output_type": "execute_result"
    }
   ],
   "source": [
    "sal.count()"
   ]
  },
  {
   "cell_type": "code",
   "execution_count": 459,
   "metadata": {},
   "outputs": [
    {
     "data": {
      "text/plain": [
       "0    2327\n",
       "1     619\n",
       "Name: Target_Satisfied, dtype: int64"
      ]
     },
     "execution_count": 459,
     "metadata": {},
     "output_type": "execute_result"
    }
   ],
   "source": [
    "sal['Target_Satisfied'].value_counts()"
   ]
  },
  {
   "cell_type": "markdown",
   "metadata": {},
   "source": [
    "## Summary of data"
   ]
  },
  {
   "cell_type": "code",
   "execution_count": 460,
   "metadata": {
    "scrolled": true
   },
   "outputs": [
    {
     "name": "stdout",
     "output_type": "stream",
     "text": [
      "<class 'pandas.core.frame.DataFrame'>\n",
      "RangeIndex: 2946 entries, 0 to 2945\n",
      "Data columns (total 83 columns):\n",
      " #   Column                      Non-Null Count  Dtype  \n",
      "---  ------                      --------------  -----  \n",
      " 0   id                          2946 non-null   int64  \n",
      " 1   Target_Salary               2946 non-null   float64\n",
      " 2   Target_Satisfied            2946 non-null   int64  \n",
      " 3   LOAN_AMT                    2946 non-null   object \n",
      " 4   Business Title              2946 non-null   object \n",
      " 5   Civil Service Title         2946 non-null   object \n",
      " 6   Division/Work Unit          2946 non-null   object \n",
      " 7   Job Description             2946 non-null   object \n",
      " 8   Minimum Qual Requirements   2926 non-null   object \n",
      " 9   Preferred Skills            2553 non-null   object \n",
      " 10  Additional Information      1854 non-null   object \n",
      " 11  To Apply                    2945 non-null   object \n",
      " 12  Hours/Shift                 884 non-null    object \n",
      " 13  Residency Requirement       2942 non-null   object \n",
      " 14  Posting Date                2942 non-null   object \n",
      " 15  Posting Updated             2942 non-null   object \n",
      " 16  Process Date                2942 non-null   object \n",
      " 17  FormalEducation             2894 non-null   object \n",
      " 18  UndergradMajor              2624 non-null   object \n",
      " 19  CompanySize                 2946 non-null   object \n",
      " 20  DevType                     2901 non-null   object \n",
      " 21  YearsCoding                 2943 non-null   object \n",
      " 22  YearsCodingProf             2538 non-null   object \n",
      " 23  HopeFiveYears               2477 non-null   object \n",
      " 24  JobSearchStatus             2511 non-null   object \n",
      " 25  LastNewJob                  2499 non-null   object \n",
      " 26  UpdateCV                    2089 non-null   object \n",
      " 27  CommunicationTools          2023 non-null   object \n",
      " 28  TimeFullyProductive         2052 non-null   object \n",
      " 29  EducationTypes              2128 non-null   object \n",
      " 30  SelfTaughtTypes             1812 non-null   object \n",
      " 31  TimeAfterBootcamp           221 non-null    object \n",
      " 32  HackathonReasons            849 non-null    object \n",
      " 33  AgreeDisagree1              2133 non-null   object \n",
      " 34  AgreeDisagree2              2133 non-null   object \n",
      " 35  AgreeDisagree3              2139 non-null   object \n",
      " 36  LanguageWorkedWith          2447 non-null   object \n",
      " 37  LanguageDesireNextYear      2279 non-null   object \n",
      " 38  DatabaseWorkedWith          2130 non-null   object \n",
      " 39  DatabaseDesireNextYear      1831 non-null   object \n",
      " 40  PlatformWorkedWith          2070 non-null   object \n",
      " 41  PlatformDesireNextYear      1909 non-null   object \n",
      " 42  FrameworkWorkedWith         1633 non-null   object \n",
      " 43  FrameworkDesireNextYear     1731 non-null   object \n",
      " 44  IDE                         2360 non-null   object \n",
      " 45  OperatingSystem             2377 non-null   object \n",
      " 46  Methodology                 1991 non-null   object \n",
      " 47  VersionControl              2332 non-null   object \n",
      " 48  CheckInCode                 2319 non-null   object \n",
      " 49  AIDangerous                 2000 non-null   object \n",
      " 50  AIInteresting               2076 non-null   object \n",
      " 51  AIResponsible               2070 non-null   object \n",
      " 52  AIFuture                    2196 non-null   object \n",
      " 53  Age                         2027 non-null   object \n",
      " 54  term                        2946 non-null   object \n",
      " 55  loan_status                 2946 non-null   object \n",
      " 56  pymnt_plan                  2946 non-null   object \n",
      " 57  orignal_website_directory   2946 non-null   object \n",
      " 58  purpose                     2946 non-null   object \n",
      " 59  title                       2882 non-null   object \n",
      " 60  zip_code                    2946 non-null   object \n",
      " 61  addr_state                  2946 non-null   object \n",
      " 62  dti                         2946 non-null   float64\n",
      " 63  earliest_cr_line            2946 non-null   object \n",
      " 64  last_pymnt_d                2946 non-null   object \n",
      " 65  last_pymnt_amnt             2946 non-null   float64\n",
      " 66  next_pymnt_d                336 non-null    object \n",
      " 67  last_credit_pull_d          2946 non-null   object \n",
      " 68  Time                        2946 non-null   object \n",
      " 69  emp_length                  715 non-null    object \n",
      " 70  your_favoritearticle_today  2945 non-null   object \n",
      " 71  url                         2946 non-null   object \n",
      " 72  Email                       1941 non-null   object \n",
      " 73  homeaddress                 2629 non-null   object \n",
      " 74  latitude                    2629 non-null   float64\n",
      " 75  longitude                   2629 non-null   float64\n",
      " 76  PHONE                       715 non-null    object \n",
      " 77  officeaddress               2407 non-null   object \n",
      " 78  website                     2399 non-null   object \n",
      " 79  dateAdded                   2946 non-null   object \n",
      " 80  previousaddress             2946 non-null   object \n",
      " 81  phones                      2946 non-null   object \n",
      " 82  CrimeTime                   2946 non-null   object \n",
      "dtypes: float64(5), int64(2), object(76)\n",
      "memory usage: 1.9+ MB\n"
     ]
    }
   ],
   "source": [
    "sal.info()"
   ]
  },
  {
   "cell_type": "code",
   "execution_count": 461,
   "metadata": {},
   "outputs": [
    {
     "data": {
      "text/html": [
       "<div>\n",
       "<style scoped>\n",
       "    .dataframe tbody tr th:only-of-type {\n",
       "        vertical-align: middle;\n",
       "    }\n",
       "\n",
       "    .dataframe tbody tr th {\n",
       "        vertical-align: top;\n",
       "    }\n",
       "\n",
       "    .dataframe thead th {\n",
       "        text-align: right;\n",
       "    }\n",
       "</style>\n",
       "<table border=\"1\" class=\"dataframe\">\n",
       "  <thead>\n",
       "    <tr style=\"text-align: right;\">\n",
       "      <th></th>\n",
       "      <th>id</th>\n",
       "      <th>Target_Salary</th>\n",
       "      <th>Target_Satisfied</th>\n",
       "      <th>dti</th>\n",
       "      <th>last_pymnt_amnt</th>\n",
       "      <th>latitude</th>\n",
       "      <th>longitude</th>\n",
       "    </tr>\n",
       "  </thead>\n",
       "  <tbody>\n",
       "    <tr>\n",
       "      <th>count</th>\n",
       "      <td>2.946000e+03</td>\n",
       "      <td>2946.000000</td>\n",
       "      <td>2946.000000</td>\n",
       "      <td>2946.000000</td>\n",
       "      <td>2946.000000</td>\n",
       "      <td>2629.000000</td>\n",
       "      <td>2629.000000</td>\n",
       "    </tr>\n",
       "    <tr>\n",
       "      <th>mean</th>\n",
       "      <td>6.830623e+07</td>\n",
       "      <td>58904.139794</td>\n",
       "      <td>0.210115</td>\n",
       "      <td>19.444117</td>\n",
       "      <td>4663.227026</td>\n",
       "      <td>37.515979</td>\n",
       "      <td>-92.490287</td>\n",
       "    </tr>\n",
       "    <tr>\n",
       "      <th>std</th>\n",
       "      <td>1.814269e+06</td>\n",
       "      <td>26986.575936</td>\n",
       "      <td>0.407460</td>\n",
       "      <td>8.628543</td>\n",
       "      <td>6855.297610</td>\n",
       "      <td>4.749089</td>\n",
       "      <td>16.578616</td>\n",
       "    </tr>\n",
       "    <tr>\n",
       "      <th>min</th>\n",
       "      <td>3.617740e+05</td>\n",
       "      <td>0.000000</td>\n",
       "      <td>0.000000</td>\n",
       "      <td>0.000000</td>\n",
       "      <td>0.030000</td>\n",
       "      <td>25.479009</td>\n",
       "      <td>-124.183611</td>\n",
       "    </tr>\n",
       "    <tr>\n",
       "      <th>25%</th>\n",
       "      <td>6.837622e+07</td>\n",
       "      <td>49390.000000</td>\n",
       "      <td>0.000000</td>\n",
       "      <td>13.035000</td>\n",
       "      <td>362.980000</td>\n",
       "      <td>33.876535</td>\n",
       "      <td>-105.095673</td>\n",
       "    </tr>\n",
       "    <tr>\n",
       "      <th>50%</th>\n",
       "      <td>6.846507e+07</td>\n",
       "      <td>58440.000000</td>\n",
       "      <td>0.000000</td>\n",
       "      <td>18.905000</td>\n",
       "      <td>842.235000</td>\n",
       "      <td>38.898082</td>\n",
       "      <td>-87.180851</td>\n",
       "    </tr>\n",
       "    <tr>\n",
       "      <th>75%</th>\n",
       "      <td>6.853764e+07</td>\n",
       "      <td>73171.750000</td>\n",
       "      <td>0.000000</td>\n",
       "      <td>25.580000</td>\n",
       "      <td>6832.185000</td>\n",
       "      <td>40.813125</td>\n",
       "      <td>-78.879958</td>\n",
       "    </tr>\n",
       "    <tr>\n",
       "      <th>max</th>\n",
       "      <td>6.861706e+07</td>\n",
       "      <td>218587.000000</td>\n",
       "      <td>1.000000</td>\n",
       "      <td>51.200000</td>\n",
       "      <td>35467.750000</td>\n",
       "      <td>48.785206</td>\n",
       "      <td>-68.753750</td>\n",
       "    </tr>\n",
       "  </tbody>\n",
       "</table>\n",
       "</div>"
      ],
      "text/plain": [
       "                 id  Target_Salary  Target_Satisfied          dti  \\\n",
       "count  2.946000e+03    2946.000000       2946.000000  2946.000000   \n",
       "mean   6.830623e+07   58904.139794          0.210115    19.444117   \n",
       "std    1.814269e+06   26986.575936          0.407460     8.628543   \n",
       "min    3.617740e+05       0.000000          0.000000     0.000000   \n",
       "25%    6.837622e+07   49390.000000          0.000000    13.035000   \n",
       "50%    6.846507e+07   58440.000000          0.000000    18.905000   \n",
       "75%    6.853764e+07   73171.750000          0.000000    25.580000   \n",
       "max    6.861706e+07  218587.000000          1.000000    51.200000   \n",
       "\n",
       "       last_pymnt_amnt     latitude    longitude  \n",
       "count      2946.000000  2629.000000  2629.000000  \n",
       "mean       4663.227026    37.515979   -92.490287  \n",
       "std        6855.297610     4.749089    16.578616  \n",
       "min           0.030000    25.479009  -124.183611  \n",
       "25%         362.980000    33.876535  -105.095673  \n",
       "50%         842.235000    38.898082   -87.180851  \n",
       "75%        6832.185000    40.813125   -78.879958  \n",
       "max       35467.750000    48.785206   -68.753750  "
      ]
     },
     "execution_count": 461,
     "metadata": {},
     "output_type": "execute_result"
    }
   ],
   "source": [
    "sal.describe()"
   ]
  },
  {
   "cell_type": "markdown",
   "metadata": {},
   "source": [
    "## Total Unique Value"
   ]
  },
  {
   "cell_type": "code",
   "execution_count": 462,
   "metadata": {
    "scrolled": true
   },
   "outputs": [
    {
     "data": {
      "text/plain": [
       "id                  2946\n",
       "Target_Salary        519\n",
       "Target_Satisfied       2\n",
       "LOAN_AMT             492\n",
       "Business Title      1244\n",
       "                    ... \n",
       "website             1369\n",
       "dateAdded             37\n",
       "previousaddress       48\n",
       "phones                46\n",
       "CrimeTime            754\n",
       "Length: 83, dtype: int64"
      ]
     },
     "execution_count": 462,
     "metadata": {},
     "output_type": "execute_result"
    }
   ],
   "source": [
    "sal.nunique()"
   ]
  },
  {
   "cell_type": "code",
   "execution_count": 463,
   "metadata": {
    "scrolled": true
   },
   "outputs": [
    {
     "data": {
      "text/plain": [
       "Index(['id', 'Target_Salary', 'Target_Satisfied', 'LOAN_AMT', 'Business Title',\n",
       "       'Civil Service Title', 'Division/Work Unit', 'Job Description',\n",
       "       'Minimum Qual Requirements', 'Preferred Skills',\n",
       "       'Additional Information', 'To Apply', 'Hours/Shift',\n",
       "       'Residency Requirement', 'Posting Date', 'Posting Updated',\n",
       "       'Process Date', 'FormalEducation', 'UndergradMajor', 'CompanySize',\n",
       "       'DevType', 'YearsCoding', 'YearsCodingProf', 'HopeFiveYears',\n",
       "       'JobSearchStatus', 'LastNewJob', 'UpdateCV', 'CommunicationTools',\n",
       "       'TimeFullyProductive', 'EducationTypes', 'SelfTaughtTypes',\n",
       "       'TimeAfterBootcamp', 'HackathonReasons', 'AgreeDisagree1',\n",
       "       'AgreeDisagree2', 'AgreeDisagree3', 'LanguageWorkedWith',\n",
       "       'LanguageDesireNextYear', 'DatabaseWorkedWith',\n",
       "       'DatabaseDesireNextYear', 'PlatformWorkedWith',\n",
       "       'PlatformDesireNextYear', 'FrameworkWorkedWith',\n",
       "       'FrameworkDesireNextYear', 'IDE', 'OperatingSystem', 'Methodology',\n",
       "       'VersionControl', 'CheckInCode', 'AIDangerous', 'AIInteresting',\n",
       "       'AIResponsible', 'AIFuture', 'Age', 'term', 'loan_status', 'pymnt_plan',\n",
       "       'orignal_website_directory', 'purpose', 'title', 'zip_code',\n",
       "       'addr_state', 'dti', 'earliest_cr_line', 'last_pymnt_d',\n",
       "       'last_pymnt_amnt', 'next_pymnt_d', 'last_credit_pull_d', 'Time',\n",
       "       'emp_length', 'your_favoritearticle_today', 'url', 'Email',\n",
       "       'homeaddress', 'latitude', 'longitude', 'PHONE', 'officeaddress',\n",
       "       'website', 'dateAdded', 'previousaddress', 'phones', 'CrimeTime'],\n",
       "      dtype='object')"
      ]
     },
     "execution_count": 463,
     "metadata": {},
     "output_type": "execute_result"
    }
   ],
   "source": [
    "sal.columns"
   ]
  },
  {
   "cell_type": "markdown",
   "metadata": {},
   "source": [
    "## Splitting categorials and Numericals columns"
   ]
  },
  {
   "cell_type": "code",
   "execution_count": 464,
   "metadata": {},
   "outputs": [
    {
     "data": {
      "text/plain": [
       "Index(['id', 'Target_Salary', 'Target_Satisfied', 'dti', 'last_pymnt_amnt',\n",
       "       'latitude', 'longitude'],\n",
       "      dtype='object')"
      ]
     },
     "execution_count": 464,
     "metadata": {},
     "output_type": "execute_result"
    }
   ],
   "source": [
    "Numerical_cols = sal.select_dtypes(include = np.number)\n",
    "\n",
    "Numerical_cols.head()\n",
    "Numerical_cols.columns"
   ]
  },
  {
   "cell_type": "code",
   "execution_count": 465,
   "metadata": {},
   "outputs": [
    {
     "data": {
      "text/plain": [
       "Index(['LOAN_AMT', 'Business Title', 'Civil Service Title',\n",
       "       'Division/Work Unit', 'Job Description', 'Minimum Qual Requirements',\n",
       "       'Preferred Skills', 'Additional Information', 'To Apply', 'Hours/Shift',\n",
       "       'Residency Requirement', 'Posting Date', 'Posting Updated',\n",
       "       'Process Date', 'FormalEducation', 'UndergradMajor', 'CompanySize',\n",
       "       'DevType', 'YearsCoding', 'YearsCodingProf', 'HopeFiveYears',\n",
       "       'JobSearchStatus', 'LastNewJob', 'UpdateCV', 'CommunicationTools',\n",
       "       'TimeFullyProductive', 'EducationTypes', 'SelfTaughtTypes',\n",
       "       'TimeAfterBootcamp', 'HackathonReasons', 'AgreeDisagree1',\n",
       "       'AgreeDisagree2', 'AgreeDisagree3', 'LanguageWorkedWith',\n",
       "       'LanguageDesireNextYear', 'DatabaseWorkedWith',\n",
       "       'DatabaseDesireNextYear', 'PlatformWorkedWith',\n",
       "       'PlatformDesireNextYear', 'FrameworkWorkedWith',\n",
       "       'FrameworkDesireNextYear', 'IDE', 'OperatingSystem', 'Methodology',\n",
       "       'VersionControl', 'CheckInCode', 'AIDangerous', 'AIInteresting',\n",
       "       'AIResponsible', 'AIFuture', 'Age', 'term', 'loan_status', 'pymnt_plan',\n",
       "       'orignal_website_directory', 'purpose', 'title', 'zip_code',\n",
       "       'addr_state', 'earliest_cr_line', 'last_pymnt_d', 'next_pymnt_d',\n",
       "       'last_credit_pull_d', 'Time', 'emp_length',\n",
       "       'your_favoritearticle_today', 'url', 'Email', 'homeaddress', 'PHONE',\n",
       "       'officeaddress', 'website', 'dateAdded', 'previousaddress', 'phones',\n",
       "       'CrimeTime'],\n",
       "      dtype='object')"
      ]
     },
     "execution_count": 465,
     "metadata": {},
     "output_type": "execute_result"
    }
   ],
   "source": [
    "Categorical_cols = sal.select_dtypes(include = 'object').columns\n",
    "\n",
    "Categorical_cols"
   ]
  },
  {
   "cell_type": "markdown",
   "metadata": {},
   "source": [
    "## Missing Value"
   ]
  },
  {
   "cell_type": "code",
   "execution_count": 466,
   "metadata": {
    "scrolled": true
   },
   "outputs": [
    {
     "data": {
      "text/html": [
       "<div>\n",
       "<style scoped>\n",
       "    .dataframe tbody tr th:only-of-type {\n",
       "        vertical-align: middle;\n",
       "    }\n",
       "\n",
       "    .dataframe tbody tr th {\n",
       "        vertical-align: top;\n",
       "    }\n",
       "\n",
       "    .dataframe thead th {\n",
       "        text-align: right;\n",
       "    }\n",
       "</style>\n",
       "<table border=\"1\" class=\"dataframe\">\n",
       "  <thead>\n",
       "    <tr style=\"text-align: right;\">\n",
       "      <th></th>\n",
       "      <th>Total</th>\n",
       "      <th>Percent(%)</th>\n",
       "    </tr>\n",
       "  </thead>\n",
       "  <tbody>\n",
       "    <tr>\n",
       "      <th>TimeAfterBootcamp</th>\n",
       "      <td>2725</td>\n",
       "      <td>92.498303</td>\n",
       "    </tr>\n",
       "    <tr>\n",
       "      <th>next_pymnt_d</th>\n",
       "      <td>2610</td>\n",
       "      <td>88.594705</td>\n",
       "    </tr>\n",
       "    <tr>\n",
       "      <th>emp_length</th>\n",
       "      <td>2231</td>\n",
       "      <td>75.729803</td>\n",
       "    </tr>\n",
       "    <tr>\n",
       "      <th>PHONE</th>\n",
       "      <td>2231</td>\n",
       "      <td>75.729803</td>\n",
       "    </tr>\n",
       "    <tr>\n",
       "      <th>HackathonReasons</th>\n",
       "      <td>2097</td>\n",
       "      <td>71.181263</td>\n",
       "    </tr>\n",
       "    <tr>\n",
       "      <th>Hours/Shift</th>\n",
       "      <td>2062</td>\n",
       "      <td>69.993211</td>\n",
       "    </tr>\n",
       "    <tr>\n",
       "      <th>FrameworkWorkedWith</th>\n",
       "      <td>1313</td>\n",
       "      <td>44.568907</td>\n",
       "    </tr>\n",
       "    <tr>\n",
       "      <th>FrameworkDesireNextYear</th>\n",
       "      <td>1215</td>\n",
       "      <td>41.242363</td>\n",
       "    </tr>\n",
       "    <tr>\n",
       "      <th>SelfTaughtTypes</th>\n",
       "      <td>1134</td>\n",
       "      <td>38.492872</td>\n",
       "    </tr>\n",
       "    <tr>\n",
       "      <th>DatabaseDesireNextYear</th>\n",
       "      <td>1115</td>\n",
       "      <td>37.847929</td>\n",
       "    </tr>\n",
       "    <tr>\n",
       "      <th>Additional Information</th>\n",
       "      <td>1092</td>\n",
       "      <td>37.067210</td>\n",
       "    </tr>\n",
       "    <tr>\n",
       "      <th>PlatformDesireNextYear</th>\n",
       "      <td>1037</td>\n",
       "      <td>35.200272</td>\n",
       "    </tr>\n",
       "    <tr>\n",
       "      <th>Email</th>\n",
       "      <td>1005</td>\n",
       "      <td>34.114053</td>\n",
       "    </tr>\n",
       "    <tr>\n",
       "      <th>Methodology</th>\n",
       "      <td>955</td>\n",
       "      <td>32.416836</td>\n",
       "    </tr>\n",
       "    <tr>\n",
       "      <th>AIDangerous</th>\n",
       "      <td>946</td>\n",
       "      <td>32.111337</td>\n",
       "    </tr>\n",
       "    <tr>\n",
       "      <th>CommunicationTools</th>\n",
       "      <td>923</td>\n",
       "      <td>31.330618</td>\n",
       "    </tr>\n",
       "    <tr>\n",
       "      <th>Age</th>\n",
       "      <td>919</td>\n",
       "      <td>31.194840</td>\n",
       "    </tr>\n",
       "    <tr>\n",
       "      <th>TimeFullyProductive</th>\n",
       "      <td>894</td>\n",
       "      <td>30.346232</td>\n",
       "    </tr>\n",
       "    <tr>\n",
       "      <th>AIResponsible</th>\n",
       "      <td>876</td>\n",
       "      <td>29.735234</td>\n",
       "    </tr>\n",
       "    <tr>\n",
       "      <th>PlatformWorkedWith</th>\n",
       "      <td>876</td>\n",
       "      <td>29.735234</td>\n",
       "    </tr>\n",
       "  </tbody>\n",
       "</table>\n",
       "</div>"
      ],
      "text/plain": [
       "                         Total  Percent(%)\n",
       "TimeAfterBootcamp         2725   92.498303\n",
       "next_pymnt_d              2610   88.594705\n",
       "emp_length                2231   75.729803\n",
       "PHONE                     2231   75.729803\n",
       "HackathonReasons          2097   71.181263\n",
       "Hours/Shift               2062   69.993211\n",
       "FrameworkWorkedWith       1313   44.568907\n",
       "FrameworkDesireNextYear   1215   41.242363\n",
       "SelfTaughtTypes           1134   38.492872\n",
       "DatabaseDesireNextYear    1115   37.847929\n",
       "Additional Information    1092   37.067210\n",
       "PlatformDesireNextYear    1037   35.200272\n",
       "Email                     1005   34.114053\n",
       "Methodology                955   32.416836\n",
       "AIDangerous                946   32.111337\n",
       "CommunicationTools         923   31.330618\n",
       "Age                        919   31.194840\n",
       "TimeFullyProductive        894   30.346232\n",
       "AIResponsible              876   29.735234\n",
       "PlatformWorkedWith         876   29.735234"
      ]
     },
     "execution_count": 466,
     "metadata": {},
     "output_type": "execute_result"
    }
   ],
   "source": [
    "total = sal.isnull().sum().sort_values(ascending=False)\n",
    "percent = (sal.isnull().sum()/sal.isnull().count()*100).sort_values(ascending=False)\n",
    "\n",
    "missing_data = pd.concat([total, percent], axis=1, keys=['Total', 'Percent(%)'])\n",
    "\n",
    "missing_data.head(20)"
   ]
  },
  {
   "cell_type": "code",
   "execution_count": 467,
   "metadata": {},
   "outputs": [
    {
     "data": {
      "text/html": [
       "<div>\n",
       "<style scoped>\n",
       "    .dataframe tbody tr th:only-of-type {\n",
       "        vertical-align: middle;\n",
       "    }\n",
       "\n",
       "    .dataframe tbody tr th {\n",
       "        vertical-align: top;\n",
       "    }\n",
       "\n",
       "    .dataframe thead th {\n",
       "        text-align: right;\n",
       "    }\n",
       "</style>\n",
       "<table border=\"1\" class=\"dataframe\">\n",
       "  <thead>\n",
       "    <tr style=\"text-align: right;\">\n",
       "      <th></th>\n",
       "      <th>id</th>\n",
       "      <th>Target_Salary</th>\n",
       "      <th>Target_Satisfied</th>\n",
       "      <th>dti</th>\n",
       "      <th>last_pymnt_amnt</th>\n",
       "      <th>latitude</th>\n",
       "      <th>longitude</th>\n",
       "    </tr>\n",
       "  </thead>\n",
       "  <tbody>\n",
       "    <tr>\n",
       "      <th>id</th>\n",
       "      <td>1.000000</td>\n",
       "      <td>-0.010424</td>\n",
       "      <td>0.017360</td>\n",
       "      <td>0.037443</td>\n",
       "      <td>-0.021086</td>\n",
       "      <td>-0.006909</td>\n",
       "      <td>0.016005</td>\n",
       "    </tr>\n",
       "    <tr>\n",
       "      <th>Target_Salary</th>\n",
       "      <td>-0.010424</td>\n",
       "      <td>1.000000</td>\n",
       "      <td>0.007766</td>\n",
       "      <td>0.002491</td>\n",
       "      <td>0.009170</td>\n",
       "      <td>0.014446</td>\n",
       "      <td>-0.013123</td>\n",
       "    </tr>\n",
       "    <tr>\n",
       "      <th>Target_Satisfied</th>\n",
       "      <td>0.017360</td>\n",
       "      <td>0.007766</td>\n",
       "      <td>1.000000</td>\n",
       "      <td>0.001063</td>\n",
       "      <td>-0.049296</td>\n",
       "      <td>-0.005274</td>\n",
       "      <td>0.029954</td>\n",
       "    </tr>\n",
       "    <tr>\n",
       "      <th>dti</th>\n",
       "      <td>0.037443</td>\n",
       "      <td>0.002491</td>\n",
       "      <td>0.001063</td>\n",
       "      <td>1.000000</td>\n",
       "      <td>-0.050584</td>\n",
       "      <td>0.011303</td>\n",
       "      <td>-0.002151</td>\n",
       "    </tr>\n",
       "    <tr>\n",
       "      <th>last_pymnt_amnt</th>\n",
       "      <td>-0.021086</td>\n",
       "      <td>0.009170</td>\n",
       "      <td>-0.049296</td>\n",
       "      <td>-0.050584</td>\n",
       "      <td>1.000000</td>\n",
       "      <td>0.006990</td>\n",
       "      <td>-0.014675</td>\n",
       "    </tr>\n",
       "    <tr>\n",
       "      <th>latitude</th>\n",
       "      <td>-0.006909</td>\n",
       "      <td>0.014446</td>\n",
       "      <td>-0.005274</td>\n",
       "      <td>0.011303</td>\n",
       "      <td>0.006990</td>\n",
       "      <td>1.000000</td>\n",
       "      <td>0.158156</td>\n",
       "    </tr>\n",
       "    <tr>\n",
       "      <th>longitude</th>\n",
       "      <td>0.016005</td>\n",
       "      <td>-0.013123</td>\n",
       "      <td>0.029954</td>\n",
       "      <td>-0.002151</td>\n",
       "      <td>-0.014675</td>\n",
       "      <td>0.158156</td>\n",
       "      <td>1.000000</td>\n",
       "    </tr>\n",
       "  </tbody>\n",
       "</table>\n",
       "</div>"
      ],
      "text/plain": [
       "                        id  Target_Salary  Target_Satisfied       dti  \\\n",
       "id                1.000000      -0.010424          0.017360  0.037443   \n",
       "Target_Salary    -0.010424       1.000000          0.007766  0.002491   \n",
       "Target_Satisfied  0.017360       0.007766          1.000000  0.001063   \n",
       "dti               0.037443       0.002491          0.001063  1.000000   \n",
       "last_pymnt_amnt  -0.021086       0.009170         -0.049296 -0.050584   \n",
       "latitude         -0.006909       0.014446         -0.005274  0.011303   \n",
       "longitude         0.016005      -0.013123          0.029954 -0.002151   \n",
       "\n",
       "                  last_pymnt_amnt  latitude  longitude  \n",
       "id                      -0.021086 -0.006909   0.016005  \n",
       "Target_Salary            0.009170  0.014446  -0.013123  \n",
       "Target_Satisfied        -0.049296 -0.005274   0.029954  \n",
       "dti                     -0.050584  0.011303  -0.002151  \n",
       "last_pymnt_amnt          1.000000  0.006990  -0.014675  \n",
       "latitude                 0.006990  1.000000   0.158156  \n",
       "longitude               -0.014675  0.158156   1.000000  "
      ]
     },
     "execution_count": 467,
     "metadata": {},
     "output_type": "execute_result"
    }
   ],
   "source": [
    "sal.corr()\n",
    "#correlation check"
   ]
  },
  {
   "cell_type": "markdown",
   "metadata": {},
   "source": [
    "## Missing value Treatment"
   ]
  },
  {
   "cell_type": "code",
   "execution_count": 468,
   "metadata": {},
   "outputs": [],
   "source": [
    "sal['UndergradMajor'] = sal['UndergradMajor'].fillna('Not-Given')\n",
    "sal['DevType'] = sal['DevType'].fillna('Not-Given')\n",
    "sal['YearsCodingProf'] = sal['YearsCodingProf'].fillna('0-2')\n",
    "sal['LastNewJob'] = sal['LastNewJob'].fillna('Not-Given')\n",
    "sal['EducationTypes'] = sal['EducationTypes'].fillna('Not-Given')\n",
    "sal['AgreeDisagree1'] = sal['AgreeDisagree1'].fillna('Not-Given')\n",
    "sal['emp_length'] = sal['emp_length'].fillna('< 1 year')\n",
    "sal['title'] = sal['title'].fillna('Not-Given')"
   ]
  },
  {
   "cell_type": "markdown",
   "metadata": {},
   "source": [
    "## Data Preprocessing"
   ]
  },
  {
   "cell_type": "code",
   "execution_count": 469,
   "metadata": {},
   "outputs": [],
   "source": [
    "df_sal = ['id', 'Target_Salary', 'Target_Satisfied', 'LOAN_AMT', 'dti','Age', 'loan_status', 'JobSearchStatus', 'FormalEducation',\n",
    "            'HopeFiveYears','CompanySize',  'YearsCoding', 'term', 'last_pymnt_amnt']"
   ]
  },
  {
   "cell_type": "markdown",
   "metadata": {},
   "source": [
    "'LOAN_AMT'"
   ]
  },
  {
   "cell_type": "code",
   "execution_count": 470,
   "metadata": {
    "scrolled": true
   },
   "outputs": [
    {
     "data": {
      "text/plain": [
       "0     3,600.00 \n",
       "1    24,700.00 \n",
       "2    20,000.00 \n",
       "3    35,000.00 \n",
       "4    10,400.00 \n",
       "Name: LOAN_AMT, dtype: object"
      ]
     },
     "execution_count": 470,
     "metadata": {},
     "output_type": "execute_result"
    }
   ],
   "source": [
    "sal.LOAN_AMT=sal.LOAN_AMT.str.strip('$')\n",
    "sal.LOAN_AMT.head(5)"
   ]
  },
  {
   "cell_type": "code",
   "execution_count": 471,
   "metadata": {},
   "outputs": [],
   "source": [
    "sal['LOAN_AMT'] = [float(str(i).replace(\",\", \"\")) for i in sal['LOAN_AMT']]"
   ]
  },
  {
   "cell_type": "markdown",
   "metadata": {},
   "source": [
    "'Age'"
   ]
  },
  {
   "cell_type": "code",
   "execution_count": 472,
   "metadata": {},
   "outputs": [
    {
     "data": {
      "text/plain": [
       "array(['25 - 34 years old', '35 - 44 years old', nan, '18 - 24 years old',\n",
       "       '45 - 54 years old', '55 - 64 years old', 'Under 18 years old'],\n",
       "      dtype=object)"
      ]
     },
     "execution_count": 472,
     "metadata": {},
     "output_type": "execute_result"
    }
   ],
   "source": [
    "sal.Age.unique()"
   ]
  },
  {
   "cell_type": "code",
   "execution_count": 473,
   "metadata": {},
   "outputs": [],
   "source": [
    "sal['Age']=np.where(sal['Age']=='Under 18 years old',0,sal['Age'])\n",
    "sal['Age']=np.where(sal['Age']=='25 - 34 years old',1,sal['Age'])\n",
    "sal['Age']=np.where(sal['Age']=='35 - 44 years old',2,sal['Age'])\n",
    "sal['Age']=np.where(sal['Age']=='18 - 24 years old',3,sal['Age'])\n",
    "sal['Age']=np.where(sal['Age']=='45 - 54 years old',4,sal['Age'])\n",
    "sal['Age']=np.where(sal['Age']=='55 - 64 years old',5,sal['Age'])\n",
    "\n"
   ]
  },
  {
   "cell_type": "code",
   "execution_count": 474,
   "metadata": {},
   "outputs": [
    {
     "data": {
      "text/plain": [
       "array([1, 2, nan, 3, 4, 5, 0], dtype=object)"
      ]
     },
     "execution_count": 474,
     "metadata": {},
     "output_type": "execute_result"
    }
   ],
   "source": [
    "sal.Age.unique()"
   ]
  },
  {
   "cell_type": "code",
   "execution_count": 475,
   "metadata": {},
   "outputs": [
    {
     "data": {
      "text/plain": [
       "919"
      ]
     },
     "execution_count": 475,
     "metadata": {},
     "output_type": "execute_result"
    }
   ],
   "source": [
    "sal.Age.isnull().sum()"
   ]
  },
  {
   "cell_type": "code",
   "execution_count": 476,
   "metadata": {},
   "outputs": [],
   "source": [
    "sal['Age'].fillna(int(sal['Age'].median()), inplace=True)"
   ]
  },
  {
   "cell_type": "code",
   "execution_count": 477,
   "metadata": {},
   "outputs": [
    {
     "data": {
      "text/plain": [
       "0"
      ]
     },
     "execution_count": 477,
     "metadata": {},
     "output_type": "execute_result"
    }
   ],
   "source": [
    "sal.Age.isnull().sum()"
   ]
  },
  {
   "cell_type": "markdown",
   "metadata": {},
   "source": [
    "'JobSearchStatus'"
   ]
  },
  {
   "cell_type": "code",
   "execution_count": 478,
   "metadata": {},
   "outputs": [
    {
     "data": {
      "text/plain": [
       "array(['I�m not actively looking, but I am open to new opportunities',\n",
       "       'I am actively looking for a job', nan,\n",
       "       'I am not interested in new job opportunities'], dtype=object)"
      ]
     },
     "execution_count": 478,
     "metadata": {},
     "output_type": "execute_result"
    }
   ],
   "source": [
    "sal.JobSearchStatus.unique()"
   ]
  },
  {
   "cell_type": "code",
   "execution_count": 479,
   "metadata": {},
   "outputs": [],
   "source": [
    "sal['JobSearchStatus']=np.where(sal['JobSearchStatus']=='I�m not actively looking, but I am open to new opportunities',0,sal['JobSearchStatus'])\n",
    "sal['JobSearchStatus']=np.where(sal['JobSearchStatus']=='I am actively looking for a job',1,sal['JobSearchStatus'])\n",
    "sal['JobSearchStatus']=np.where(sal['JobSearchStatus']=='I am not interested in new job opportunities',2,sal['JobSearchStatus'])\n"
   ]
  },
  {
   "cell_type": "code",
   "execution_count": 480,
   "metadata": {},
   "outputs": [],
   "source": [
    "sal['JobSearchStatus'].fillna(int(sal['JobSearchStatus'].median()), inplace=True)"
   ]
  },
  {
   "cell_type": "code",
   "execution_count": 481,
   "metadata": {},
   "outputs": [
    {
     "data": {
      "text/plain": [
       "0"
      ]
     },
     "execution_count": 481,
     "metadata": {},
     "output_type": "execute_result"
    }
   ],
   "source": [
    "sal.Age.isnull().sum()"
   ]
  },
  {
   "cell_type": "markdown",
   "metadata": {},
   "source": [
    "'loan_status'"
   ]
  },
  {
   "cell_type": "code",
   "execution_count": 482,
   "metadata": {},
   "outputs": [
    {
     "data": {
      "text/plain": [
       "array(['Fully Paid', 'Current', 'Charged Off', 'In Grace Period',\n",
       "       'Late (31-120 days)', 'Late (16-30 days)'], dtype=object)"
      ]
     },
     "execution_count": 482,
     "metadata": {},
     "output_type": "execute_result"
    }
   ],
   "source": [
    "sal.loan_status.unique()"
   ]
  },
  {
   "cell_type": "code",
   "execution_count": 483,
   "metadata": {},
   "outputs": [
    {
     "data": {
      "text/plain": [
       "{'Fully Paid': 0,\n",
       " 'Charged Off': 1,\n",
       " 'Current': 2,\n",
       " 'Late (31-120 days)': 3,\n",
       " 'In Grace Period': 4,\n",
       " 'Late (16-30 days)': 5}"
      ]
     },
     "execution_count": 483,
     "metadata": {},
     "output_type": "execute_result"
    }
   ],
   "source": [
    "{\"Fully Paid\":0, \"Charged Off\":1, \"Current\":2, \"Late (31-120 days)\":3,\n",
    "                      \"In Grace Period\":4, \"Late (16-30 days)\":5}"
   ]
  },
  {
   "cell_type": "code",
   "execution_count": 484,
   "metadata": {},
   "outputs": [],
   "source": [
    "sal['loan_status']=np.where(sal['loan_status']=='Fully Paid',0,sal['loan_status'])\n",
    "sal['loan_status']=np.where(sal['loan_status']=='Charged Off',1,sal['loan_status'])\n",
    "sal['loan_status']=np.where(sal['loan_status']=='Current',2,sal['loan_status'])\n",
    "sal['loan_status']=np.where(sal['loan_status']=='Late (31-120 days)',3,sal['loan_status'])\n",
    "sal['loan_status']=np.where(sal['loan_status']=='In Grace Period',4,sal['loan_status'])\n",
    "sal['loan_status']=np.where(sal['loan_status']=='Late (16-30 days)',5,sal['loan_status'])"
   ]
  },
  {
   "cell_type": "code",
   "execution_count": 485,
   "metadata": {},
   "outputs": [
    {
     "data": {
      "text/plain": [
       "array([0, 2, 1, 4, 3, 5], dtype=object)"
      ]
     },
     "execution_count": 485,
     "metadata": {},
     "output_type": "execute_result"
    }
   ],
   "source": [
    "sal.loan_status.unique()"
   ]
  },
  {
   "cell_type": "markdown",
   "metadata": {},
   "source": [
    "'FormalEducation'"
   ]
  },
  {
   "cell_type": "code",
   "execution_count": 486,
   "metadata": {
    "scrolled": true
   },
   "outputs": [
    {
     "data": {
      "text/plain": [
       "array(['Bachelor�s degree (BA, BS, B.Eng., etc.)', 'Associate degree',\n",
       "       'Some college/university study without earning a degree',\n",
       "       'Master�s degree (MA, MS, M.Eng., MBA, etc.)',\n",
       "       'Secondary school (e.g. American high school, German Realschule or Gymnasium, etc.)',\n",
       "       nan, 'Primary/elementary school',\n",
       "       'Professional degree (JD, MD, etc.)',\n",
       "       'I never completed any formal education',\n",
       "       'Other doctoral degree (Ph.D, Ed.D., etc.)'], dtype=object)"
      ]
     },
     "execution_count": 486,
     "metadata": {},
     "output_type": "execute_result"
    }
   ],
   "source": [
    "sal.FormalEducation.unique()"
   ]
  },
  {
   "cell_type": "code",
   "execution_count": 487,
   "metadata": {},
   "outputs": [],
   "source": [
    "sal['FormalEducation']=np.where(sal['FormalEducation']=='Bachelor�s degree (BA, BS, B.Eng., etc.)',0,sal['FormalEducation'])\n",
    "sal['FormalEducation']=np.where(sal['FormalEducation']=='Associate degree',1,sal['FormalEducation'])\n",
    "sal['FormalEducation']=np.where(sal['FormalEducation']=='Some college/university study without earning a degree',2,sal['FormalEducation'])\n",
    "sal['FormalEducation']=np.where(sal['FormalEducation']=='Master�s degree (MA, MS, M.Eng., MBA, etc.)',3,sal['FormalEducation'])\n",
    "sal['FormalEducation']=np.where(sal['FormalEducation']=='Secondary school (e.g. American high school, German Realschule or Gymnasium, etc.)',4,sal['FormalEducation'])\n",
    "sal['FormalEducation']=np.where(sal['FormalEducation']=='Primary/elementary school',5,sal['FormalEducation'])\n",
    "sal['FormalEducation']=np.where(sal['FormalEducation']=='Professional degree (JD, MD, etc.)',6,sal['FormalEducation'])\n",
    "sal['FormalEducation']=np.where(sal['FormalEducation']=='I never completed any formal education',7,sal['FormalEducation'])\n",
    "sal['FormalEducation']=np.where(sal['FormalEducation']=='Other doctoral degree (Ph.D, Ed.D., etc.)',8,sal['FormalEducation'])"
   ]
  },
  {
   "cell_type": "code",
   "execution_count": 488,
   "metadata": {},
   "outputs": [],
   "source": [
    "sal['FormalEducation'].fillna(int(sal['FormalEducation'].median()),inplace=True)"
   ]
  },
  {
   "cell_type": "code",
   "execution_count": 489,
   "metadata": {},
   "outputs": [
    {
     "data": {
      "text/plain": [
       "0"
      ]
     },
     "execution_count": 489,
     "metadata": {},
     "output_type": "execute_result"
    }
   ],
   "source": [
    "sal['FormalEducation'].isnull().sum()"
   ]
  },
  {
   "cell_type": "markdown",
   "metadata": {},
   "source": [
    "'YearsCoding'"
   ]
  },
  {
   "cell_type": "code",
   "execution_count": 490,
   "metadata": {},
   "outputs": [
    {
     "data": {
      "text/plain": [
       "array(['3-5 years', '30 or more years', '24-26 years', '18-20 years',\n",
       "       '6-8 years', '9-11 years', '0-2 years', '15-17 years',\n",
       "       '12-14 years', '21-23 years', '27-29 years', nan], dtype=object)"
      ]
     },
     "execution_count": 490,
     "metadata": {},
     "output_type": "execute_result"
    }
   ],
   "source": [
    "sal.YearsCoding.unique()"
   ]
  },
  {
   "cell_type": "code",
   "execution_count": 491,
   "metadata": {},
   "outputs": [],
   "source": [
    "sal['YearsCoding']=np.where(sal['YearsCoding']=='0-2 years',0,sal['YearsCoding'])\n",
    "sal['YearsCoding']=np.where(sal['YearsCoding']=='3-5 years',1,sal['YearsCoding'])\n",
    "sal['YearsCoding']=np.where(sal['YearsCoding']=='6-8 years',2,sal['YearsCoding'])\n",
    "sal['YearsCoding']=np.where(sal['YearsCoding']=='9-11 years',3,sal['YearsCoding'])\n",
    "sal['YearsCoding']=np.where(sal['YearsCoding']=='12-14 years',4,sal['YearsCoding'])\n",
    "sal['YearsCoding']=np.where(sal['YearsCoding']=='15-17 years',5,sal['YearsCoding'])\n",
    "sal['YearsCoding']=np.where(sal['YearsCoding']=='18-20 years',6,sal['YearsCoding'])\n",
    "sal['YearsCoding']=np.where(sal['YearsCoding']=='21-23 years',7,sal['YearsCoding'])\n",
    "sal['YearsCoding']=np.where(sal['YearsCoding']=='24-26 years',8,sal['YearsCoding'])\n",
    "sal['YearsCoding']=np.where(sal['YearsCoding']=='27-29 years',9,sal['YearsCoding'])\n",
    "sal['YearsCoding']=np.where(sal['YearsCoding']=='30 or more years',10,sal['YearsCoding'])"
   ]
  },
  {
   "cell_type": "code",
   "execution_count": 492,
   "metadata": {},
   "outputs": [],
   "source": [
    "sal['YearsCoding'].fillna(int(sal['YearsCoding'].median()),inplace=True)"
   ]
  },
  {
   "cell_type": "code",
   "execution_count": 493,
   "metadata": {},
   "outputs": [
    {
     "data": {
      "text/plain": [
       "0"
      ]
     },
     "execution_count": 493,
     "metadata": {},
     "output_type": "execute_result"
    }
   ],
   "source": [
    "sal.YearsCoding.isnull().sum()"
   ]
  },
  {
   "cell_type": "markdown",
   "metadata": {},
   "source": [
    "'CompanySize'"
   ]
  },
  {
   "cell_type": "code",
   "execution_count": 494,
   "metadata": {},
   "outputs": [
    {
     "data": {
      "text/plain": [
       "array(['20 to 99 employees', '10,000 or more employees',\n",
       "       '100 to 499 employees', '10 to 19 employees',\n",
       "       '500 to 999 employees', '1,000 to 4,999 employees',\n",
       "       '5,000 to 9,999 employees', 'Fewer than 10 employees'],\n",
       "      dtype=object)"
      ]
     },
     "execution_count": 494,
     "metadata": {},
     "output_type": "execute_result"
    }
   ],
   "source": [
    "sal.CompanySize.unique()"
   ]
  },
  {
   "cell_type": "code",
   "execution_count": 495,
   "metadata": {},
   "outputs": [],
   "source": [
    "sal['CompanySize']=np.where(sal['CompanySize']=='Fewer than 10 employees',0,sal['CompanySize'])\n",
    "sal['CompanySize']=np.where(sal['CompanySize']=='10 to 19 employees',1,sal['CompanySize'])\n",
    "sal['CompanySize']=np.where(sal['CompanySize']=='20 to 99 employees',2,sal['CompanySize'])\n",
    "sal['CompanySize']=np.where(sal['CompanySize']=='100 to 499 employees',3,sal['CompanySize'])\n",
    "sal['CompanySize']=np.where(sal['CompanySize']=='500 to 999 employees',4,sal['CompanySize'])\n",
    "sal['CompanySize']=np.where(sal['CompanySize']=='1,000 to 4,999 employees',5,sal['CompanySize'])\n",
    "sal['CompanySize']=np.where(sal['CompanySize']=='5,000 to 9,999 employees',6,sal['CompanySize'])\n",
    "sal['CompanySize']=np.where(sal['CompanySize']=='10,000 or more employees',7,sal['CompanySize'])\n"
   ]
  },
  {
   "cell_type": "code",
   "execution_count": 496,
   "metadata": {},
   "outputs": [
    {
     "data": {
      "text/plain": [
       "array([2, 7, 3, 1, 4, 5, 6, 0], dtype=object)"
      ]
     },
     "execution_count": 496,
     "metadata": {},
     "output_type": "execute_result"
    }
   ],
   "source": [
    "sal.CompanySize.unique()"
   ]
  },
  {
   "cell_type": "markdown",
   "metadata": {},
   "source": [
    "'HopeFiveYears'"
   ]
  },
  {
   "cell_type": "code",
   "execution_count": 497,
   "metadata": {},
   "outputs": [
    {
     "data": {
      "text/plain": [
       "array(['Working as a founder or co-founder of my own company',\n",
       "       \"Working in a different or more specialized technical role than the one I'm in now\",\n",
       "       'Doing the same work', nan,\n",
       "       'Working as an engineering manager or other functional manager',\n",
       "       'Working in a career completely unrelated to software development',\n",
       "       'Working as a product manager or project manager', 'Retirement'],\n",
       "      dtype=object)"
      ]
     },
     "execution_count": 497,
     "metadata": {},
     "output_type": "execute_result"
    }
   ],
   "source": [
    "sal.HopeFiveYears.unique()"
   ]
  },
  {
   "cell_type": "code",
   "execution_count": 498,
   "metadata": {},
   "outputs": [],
   "source": [
    "sal['HopeFiveYears']=np.where(sal['HopeFiveYears']==\"Working in a different or more specialized technical role than the one I'm in now\",0,sal['HopeFiveYears'])\n",
    "sal['HopeFiveYears']=np.where(sal['HopeFiveYears']=='Working as a founder or co-founder of my own company',1,sal['HopeFiveYears'])\n",
    "sal['HopeFiveYears']=np.where(sal['HopeFiveYears']=='Doing the same work',2,sal['HopeFiveYears'])\n",
    "sal['HopeFiveYears']=np.where(sal['HopeFiveYears']=='Working as an engineering manager or other functional manager',3,sal['HopeFiveYears'])\n",
    "sal['HopeFiveYears']=np.where(sal['HopeFiveYears']=='Working as a product manager or project manager',4,sal['HopeFiveYears'])\n",
    "sal['HopeFiveYears']=np.where(sal['HopeFiveYears']=='Working in a career completely unrelated to software development',5,sal['HopeFiveYears'])\n",
    "sal['HopeFiveYears']=np.where(sal['HopeFiveYears']=='Retirement',6,sal['HopeFiveYears'])\n"
   ]
  },
  {
   "cell_type": "code",
   "execution_count": 499,
   "metadata": {},
   "outputs": [],
   "source": [
    "sal['HopeFiveYears'].fillna(int(sal['HopeFiveYears'].median()), inplace=True)"
   ]
  },
  {
   "cell_type": "code",
   "execution_count": 500,
   "metadata": {},
   "outputs": [
    {
     "data": {
      "text/plain": [
       "0"
      ]
     },
     "execution_count": 500,
     "metadata": {},
     "output_type": "execute_result"
    }
   ],
   "source": [
    "sal.HopeFiveYears.isnull().sum()"
   ]
  },
  {
   "cell_type": "code",
   "execution_count": 501,
   "metadata": {
    "scrolled": false
   },
   "outputs": [],
   "source": [
    "#df['pickup_datetime'] = pd.to_datetime(df['pickup_datetime'], format='%Y-%m-%d %H:%M:%S UTC')"
   ]
  },
  {
   "cell_type": "markdown",
   "metadata": {},
   "source": [
    "'term'"
   ]
  },
  {
   "cell_type": "code",
   "execution_count": 502,
   "metadata": {},
   "outputs": [
    {
     "data": {
      "text/plain": [
       "array([' 36 months', ' 60 months'], dtype=object)"
      ]
     },
     "execution_count": 502,
     "metadata": {},
     "output_type": "execute_result"
    }
   ],
   "source": [
    "sal.term.unique()"
   ]
  },
  {
   "cell_type": "code",
   "execution_count": 503,
   "metadata": {},
   "outputs": [],
   "source": [
    "sal['term']=np.where(sal['term']==' 36 months',0,1)"
   ]
  },
  {
   "cell_type": "code",
   "execution_count": 504,
   "metadata": {},
   "outputs": [
    {
     "data": {
      "text/plain": [
       "array([0, 1])"
      ]
     },
     "execution_count": 504,
     "metadata": {},
     "output_type": "execute_result"
    }
   ],
   "source": [
    "sal.term.unique()"
   ]
  },
  {
   "cell_type": "code",
   "execution_count": 505,
   "metadata": {},
   "outputs": [
    {
     "data": {
      "text/plain": [
       "0    0\n",
       "1    0\n",
       "2    1\n",
       "3    1\n",
       "4    1\n",
       "Name: term, dtype: int32"
      ]
     },
     "execution_count": 505,
     "metadata": {},
     "output_type": "execute_result"
    }
   ],
   "source": [
    "sal.term.head()"
   ]
  },
  {
   "cell_type": "code",
   "execution_count": 506,
   "metadata": {},
   "outputs": [
    {
     "data": {
      "text/plain": [
       "dtype('int32')"
      ]
     },
     "execution_count": 506,
     "metadata": {},
     "output_type": "execute_result"
    }
   ],
   "source": [
    "sal.term.dtypes"
   ]
  },
  {
   "cell_type": "markdown",
   "metadata": {},
   "source": [
    "'emp_length'"
   ]
  },
  {
   "cell_type": "code",
   "execution_count": 507,
   "metadata": {
    "scrolled": true
   },
   "outputs": [
    {
     "data": {
      "text/plain": [
       "0       0.212719\n",
       "1       0.212719\n",
       "2       0.212719\n",
       "3       0.189441\n",
       "4       0.189441\n",
       "          ...   \n",
       "2941    0.212719\n",
       "2942    0.212719\n",
       "2943    0.212719\n",
       "2944    0.212719\n",
       "2945    0.212719\n",
       "Name: emp_length, Length: 2946, dtype: float64"
      ]
     },
     "execution_count": 507,
     "metadata": {},
     "output_type": "execute_result"
    }
   ],
   "source": [
    "mean_emp_length=sal.groupby(['emp_length'])['Target_Satisfied'].mean().to_dict()\n",
    "sal['emp_length']= sal['emp_length'].map(mean_emp_length)\n",
    "sal['emp_length']"
   ]
  },
  {
   "cell_type": "code",
   "execution_count": 508,
   "metadata": {},
   "outputs": [
    {
     "data": {
      "text/plain": [
       "array([0.2127193 , 0.18944099, 0.2       , 0.18      , 0.28      ,\n",
       "       0.16      , 0.20408163, 0.27083333, 0.20833333])"
      ]
     },
     "execution_count": 508,
     "metadata": {},
     "output_type": "execute_result"
    }
   ],
   "source": [
    "sal['emp_length'].unique()"
   ]
  },
  {
   "cell_type": "markdown",
   "metadata": {},
   "source": [
    "'Civil Service Title'"
   ]
  },
  {
   "cell_type": "code",
   "execution_count": 509,
   "metadata": {},
   "outputs": [
    {
     "data": {
      "text/plain": [
       "array(['CONTRACT REVIEWER (OFFICE OF L', 'ADMINISTRATIVE BUSINESS PROMOT',\n",
       "       'MAINTENANCE WORKER', 'PAINTER', 'PROCUREMENT ANALYST',\n",
       "       'ASSOCIATE CHEMIST', 'ADMINISTRATIVE STAFF ANALYST (',\n",
       "       'CLERICAL ASSOCIATE', 'ADM MANAGER-NON-MGRL FRM M1/M2',\n",
       "       'CERT. IT ADMINISTRATOR WAN', 'COLLEGE AIDE (ALL CITY DEPTS)',\n",
       "       'COMPUTER ASSOC (TECH SUPP)', 'COMPUTER SPECIALIST (SOFTWARE)',\n",
       "       'COMPUTER PROGRAMMER ANALYST', 'COMPUTER SYSTEMS MANAGER',\n",
       "       'PARALEGAL AIDE', 'HIGH PRESSURE PLANT TENDER',\n",
       "       'CERTIFIED IT ADMINISTRATOR LAN', 'RESEARCH ASSISTANT',\n",
       "       'ASSOCIATE STAFF ANALYST', 'ASSOCIATE CALL CENTER REPRESEN',\n",
       "       'ADMINISTRATIVE ENGINEER', 'PUBLIC HEALTH NURSE (SCHOOL HE',\n",
       "       'PUBLIC HEALTH ADVISER', 'COMMUNITY ASSOCIATE',\n",
       "       'ADMINISTRATIVE DIRECTOR OF SOC', 'SUPERVISING PUBLIC HEALTH ADVI',\n",
       "       'COMPUTER ASSOC (OPERATIONS)', 'CHILD AND FAMILY SPECIALIST',\n",
       "       'COMMUNITY COORDINATOR', 'CERTIFIED IT ADMINISTRATOR (LA',\n",
       "       'PEST CONTROL AIDE', 'STUDENT LEGAL SPECIALIST',\n",
       "       'SUPERVISOR II SOCIAL WORK', 'PROGRAM EVALUATOR (ACS)',\n",
       "       'CITY RESEARCH SCIENTIST', 'COMPUTER ASSOC (SOFTWARE)',\n",
       "       'AGENCY ATTORNEY', 'INVESTIGATOR', 'CLAIM SPECIALIST',\n",
       "       'PRINCIPAL ADMINISTRATIVE ASSOC', 'ADM ENGINEER (NON MGRL)',\n",
       "       'ADMINISTRATIVE DIRECTOR OF RES', 'STAFF ANALYST',\n",
       "       'MECHANICAL ENGINEERING INTERN', 'MECHANICAL ENGINEER',\n",
       "       'ASSISTANT CIVIL ENGINEER', 'MACHINIST', 'ELECTRICAL ENGINEER',\n",
       "       'CIVIL ENGINEER', 'ASSOCIATE PUBLIC HEALTH SANITA',\n",
       "       'ADMINISTRATIVE PROJECT MANAGER', 'ADM CITY PLANNER (NON MGRL)',\n",
       "       'SUPERVISOR OF STOCK WORKERS', 'COMPUTER AIDE',\n",
       "       'DIRECTOR OF FIELD OPERATIONS (', 'CRIMINALIST ASSISTANT DIRECTOR',\n",
       "       'WATERSHED MAINTAINER', 'PROJECT MANAGER INTERN#',\n",
       "       'AGENCY ATTORNEY INTERNE', 'ADMINISTRATIVE TRANSPORTATION',\n",
       "       'PLASTERER', 'SUPERVISOR (WATERSHED MAINTENA', 'ELECTRICIAN',\n",
       "       'QUALITY ASSURANCE SPECIALIST (', 'ASSOC SUPVR OF SCHL SEC (MGRL)',\n",
       "       'STATIONARY ENGINEER (ELECTRIC)', 'ADMINISTRATIVE MANAGER',\n",
       "       'ASSISTANT COMMISSIONER (DEP)', 'PLUMBER',\n",
       "       'ASSISTANT ELECTRICAL ENGINEER', 'ASSOCIATE PROJECT MANAGER',\n",
       "       'BRIDGE OPERATOR', 'WATER USE INSPECTOR', 'BUDGET ANALYST (OMB)',\n",
       "       'BOOKKEEPER', 'ADMINISTRATIVE PUBLIC INFORMAT',\n",
       "       'CIVILIANIZATION MANAGER-PD', 'SUPERVISING COMPUTER SERVICE T',\n",
       "       'STOCK WORKER', 'ASSOCIATE HOUSING DEVELOPMENT',\n",
       "       'ELECTRICAL ENGINEERING INTERN', 'ADMIN CONTRACT SPECIALIST (PYR',\n",
       "       'STRATEGIC INITIATIVE SPECIALIS', 'ASSISTANT LANDSCAPE ARCHITECT',\n",
       "       'CERT IT DEVELOPER (APP)', 'INSTRUMENTATION SPECIALIST',\n",
       "       'LEGAL SECRETARIAL ASSISTANT AL', 'CORRECTIONAL STANDARDS REVIEW',\n",
       "       'CONSTRUCTION PROJECT MANAGER', 'OIL BURNER SPECIALIST',\n",
       "       'DEPUTY COMMISSIONER (DEP)', 'ADMINISTRATIVE PROCUREMENT ANA',\n",
       "       'ASSISTANT MECHANICAL ENGINEER', 'ASSISTANT CORPORATION COUNSEL',\n",
       "       'INSPECTOR (MULTI-DISCIPLINE)', 'CRIMINALIST',\n",
       "       'EXECUTIVE PROGRAM SPECIALIST (', 'ASSISTANT ARCHITECT',\n",
       "       'CHILD PROTECTIVE SPECIALIST (C', 'ASSOCIATE WATER USE INSPECTOR',\n",
       "       'PUBLIC HEALTH NURSE', 'EXECUTIVE AGENCY COUNSEL',\n",
       "       'TRAFFIC DEVICE MAINTAINER', 'ACCOUNTANT', 'LANDSCAPE ARCHITECT',\n",
       "       'ADM HOUSING DEV SPEC(NON MGRL)', 'MOTOR VEHICLE OPERATOR',\n",
       "       'INVESTIGATOR TRAINEE (PYRL NOT', 'ADMIN COMMUNITY RELATIONS SPEC',\n",
       "       'FORENSIC MORTUARY TECHNICIAN', 'ENGINEERING TECHNICIAN',\n",
       "       'ECONOMIST', 'STATIONARY ENGINEER',\n",
       "       'ASSISTANT ENVIRONMENTAL ENGINE', 'ADMINISTRATIVE CONSTRUCTION PR',\n",
       "       'MARINER', 'TAXI AND LIMOUSINE INSPECTOR',\n",
       "       'CIVIL ENGINEERING INTERN', 'INVESTIGATOR (CCRB)',\n",
       "       'CONFIDENTIAL INVESTIGATOR', 'SEWAGE TREATMENT WORKER',\n",
       "       'COMPUTER SERVICE TECHNICIAN (C', 'GARDENER',\n",
       "       'COMPUTER SPECIALIST (OPERATION', 'SCIENTIST (WATER ECOLOGY)',\n",
       "       'COMMUNITY ASSISTANT', 'ADMINISTRATIVE REAL PROPERTY M',\n",
       "       'SUPERVISOR OF MECHANICAL INSTA', 'ADMINISTRATIIVE TAXI & LIMOUSI',\n",
       "       'IT PROJECT SPECIALIST', 'IT INFRASTRUCTURE ENGINEER',\n",
       "       'ADMINISTRATIVE MANAGEMENT AUDI', 'ENVIRONMENTAL ENGINEERING INTE',\n",
       "       'ADMINISTRATIVE SUPERVISOR OF B', 'CITY PLANNER',\n",
       "       'CUSTOMER INFORMATION REP', 'CITY PARK WORKER', 'CUSTODIAN',\n",
       "       'SHEET METAL WORKER', 'DEPUTY COMMISSIONER (HEALTH)',\n",
       "       'COMPUTER OPERATIONS MANAGER (S', 'IT SECURITY SPECIALIST',\n",
       "       \"MACHINIST'S HELPER\", 'CARETAKER (HA)',\n",
       "       'HOUSING DEVELOPMENT SPECIALIST', 'ASSOCIATE CONTRACT SPECIALIST',\n",
       "       'DIRECTOR OF CONTRACT ADMINISTR', 'DIRECTOR OF SECURITY (HRA/DSS',\n",
       "       'CITY SEASONAL AIDE', 'IT AUTOMATION AND MONITORING E',\n",
       "       'PROJECT MANAGER', 'OPERATIONS COMMUNICATION SPECI', 'DOCKBUILDER',\n",
       "       'ADMINISTRATIVE PUBLIC HEALTH N', 'PROTECTION AGENT (ACS)',\n",
       "       'ASSOCIATE PUBLIC RECORDS OFFIC', 'COOK',\n",
       "       'CITY MEDICAL SPECIALIST (PART-', 'MEDICOLEGAL ANALYST (LAW DEPT)',\n",
       "       'FAMILY PUB HEALTH NURSE (HMH)', 'AUTO MECHANIC',\n",
       "       'ASBESTOS HAZARD INVESTIGATOR', 'EXTERMINATOR', 'ARCHITECT',\n",
       "       'INDUSTRIAL HYGIENIST', 'PUBLIC RECORDS OFFICER',\n",
       "       'CHILD WELFARE SPECIALIST SUPER', 'HOUSING ASSISTANT (HA)',\n",
       "       'ADMINISTRATIVE CITY PLANNER', 'METAL WORK MECHANIC',\n",
       "       'SUMMER COLLEGE INTERN', 'ASSISTANT EXECUTIVE DIRECTOR (',\n",
       "       'ADMINISTRATIVE ACCOUNTANT (NON', 'RADIO REPAIR MECHANIC',\n",
       "       'SENIOR GENERAL DEPUTY MANAGER', 'CARPENTER',\n",
       "       'CHILD WELFARE SPECIALIST', 'IT SERVICE MANAGEMENT SPECIALI',\n",
       "       'SENIOR POLICE ADMINISTRATIVE A', 'LEAD ABATEMENT WORKER',\n",
       "       'CONSTRUCTION PROJECT MANAGER I', 'SENIOR ESTIMATOR (GENERAL CONS',\n",
       "       'PROJECT MANAGER (DBS)', 'ASSOCIATE FIRE PROTECTION INSP',\n",
       "       'CONSULTANT (EARLY CHILDHOOD ED', 'ADMINISTRATIVE INSPECTOR (HOUS',\n",
       "       'THERMOSTAT REPAIRER', 'SPECIAL ASSISTANT TO THE DEPUT',\n",
       "       'SPECIAL CONSULTANT (MENTAL HEA', 'SENIOR STATIONARY ENGINEER (EL',\n",
       "       'CONSTRUCTION LABORER', 'QUALITY ASSURANCE SPECIALIST',\n",
       "       'SPEC CONSULTANT (MHSS) (AL 2)', 'NURSE PRACTITIONER(DEPT HEALTH',\n",
       "       'INVESTMENT MANAGER (COMPTROLLE', 'ADM CONSTRUCTION PRJ MGR-NM',\n",
       "       'ASSOCIATE URBAN DESIGNER', 'STAFF ANALYST TRAINEE',\n",
       "       'CITY CUSTODIAL ASSISTANT', 'Asst Comm-Prgm Dev Revw-HMH',\n",
       "       'DIRECTOR OF TECHNICAL SERVICES', \"BLACKSMITH'S HELPER\",\n",
       "       'RESEARCH AND LIAISON SPECIALIS', 'SENIOR STATIONARY ENGINEER',\n",
       "       'CLIMBER & PRUNER', 'FORESTER', 'CITY MEDICAL SPECIALIST',\n",
       "       'HIGHWAY TRANSPORTATION SPECIAL', \"PLUMBER'S HELPER\",\n",
       "       'COMMUNITY SERVICE AIDE', 'ADMINISTRATIVE CONTRACT SPECIA',\n",
       "       'SENIOR MENTAL HEALTH WORKER', 'ADMINISTRATIVE ACCOUNTANT',\n",
       "       'CONGREG CARE SPEC-ACS(35 HR WK', 'COUNSEL TO THE BOROUGH PRESIDE',\n",
       "       'JUNIOR PUBLIC HEALTH NURSE', 'POISON INFORMATION SPECIALIST(',\n",
       "       'CITY ATTENDANT', 'TELECOMMUNICATION MANAGER', 'DECKHAND',\n",
       "       'HUMAN RIGHTS SPECIALIST (COMM', 'ASSOCIATE HUMAN RIGHTS SPECIAL',\n",
       "       'MARINE OILER(FERRY OPERATIONS)', 'DEPUTY INSPECTOR GENERAL',\n",
       "       'SUPERVISOR III SOCIAL WORK', 'HEALTH SERVICES MANAGER NON MA',\n",
       "       'GRAPHIC ARTIST', 'INVESTMENT ANALYST', 'CYBER SECURITY ANALYST',\n",
       "       'ASSISTANT DISTRICT ATTORNEY (S', 'COLLEGE AIDE - ASSIGNMENT LEVE',\n",
       "       'GEOLOGIST', 'CRIME ANALYST', 'SENIOR IT ARCHITECT',\n",
       "       'STATISTICIAN', 'RESEARCH PROJECTS COOR(MA)-MGR',\n",
       "       'CONTRACT SPECIALIST', 'BUDGET ANALYST (OMB)-MANAGERIA',\n",
       "       'MANAGEMENT AUDITOR', 'CITY LABORER',\n",
       "       'SENIOR ESTIMATOR (ELECTRICAL)', 'SENIOR CONSULTANT (PUBLIC HEAL',\n",
       "       'PUBLIC HEALTH SANITARIAN', 'TELECOMMUNICATIONS MANAGER (NO',\n",
       "       'TELECOMMUNICATIONS ASSOCIATE (', 'COUNSELOR (ADDICTION TREATMENT',\n",
       "       'MEMBER OF THE ENVIRONMENTAL CO', 'INSPECTOR (BOILERS)',\n",
       "       'LABOR RELATIONS ANALYST', 'SUPERINTENDENT OF WATER AND SE',\n",
       "       'YOUTH COORDINATOR (YOUTH SERVI', 'PORT MARINE ENGINEER (DEP)',\n",
       "       'ASSOCIATE QUALITY ASSURANCE SP', 'CASEWORKER',\n",
       "       'CERT IT ADMINISTRATOR (DB)', 'LOCKSMITH', 'CONFIDENTIAL EXAMINER',\n",
       "       'ADMINISTRATIVE CLAIM EXAMINER', 'ADMINISTRATIVE  PROGRAM OFFICE',\n",
       "       'PRINCIPAL NUTRITION CONSULTANT', 'SPECIAL ASSISTANT (DESIGN AND',\n",
       "       'ADMINISTRATIVE PSYCHOLOGIST', 'DEPUTY COMMISSIONER',\n",
       "       'ELECTRICIAN (AUTOMOBILE)', 'ADMINISTRATIVE COMMUNITY RELAT',\n",
       "       'ADMINISTRATIVE ARCHITECT', 'CHAPLAIN',\n",
       "       'SUPERVISOR OF ELEVATOR MAINTEN', 'EMERGENCY PREPAREDNESS MANAGER',\n",
       "       'RESEARCH PROJECTS COORDINATOR', 'CITY TAX AUDITOR',\n",
       "       'INVESTIGATOR(DISCP)(ONLY FOR P', 'PROBATION OFFICER TRAINEE',\n",
       "       'POLICE ADMINISTRATIVE AIDE', 'INSPECTOR (ELEVATORS)',\n",
       "       'ADMINISTRATIVE FIRE PROTECTION', 'ASSISTANT COMMISSIONER (ALTERN',\n",
       "       'ASSISTANT URBAN DESIGNER', 'CONFIDENTIAL STRATEGY PLANNER',\n",
       "       'ASSISTANT RESIDENT BUILDING SU', 'DIRECTOR OF CONSUMER INFORMATI',\n",
       "       'ENVIRONMENTAL ENGINEER', 'SUPERVISING SPECIAL OFFICER',\n",
       "       'ASSISTANT COMMISSIONER (EQUAL', 'ASSOCIATE FRAUD INVESTIGATOR (',\n",
       "       'ADMINISTRATIVE INSPECTOR (BUIL', 'ADMIN ARCHITECT (NON MGRL) M-1',\n",
       "       'MEDIA SERVICES TECHNICIAN', 'ASSISTANT COMMISSIONER (ENERGY',\n",
       "       'DIRECTOR OF PROPERTY MANAGEMEN', 'ASSISTANT COMMISSIONER (DOC)',\n",
       "       'CASE - MANAGEMENT NURSE (FIRE', 'CITY ASSESSOR (I,II,IIIA,IIIB)',\n",
       "       'ADMINISTRATIVE HORTICULTURIST', 'PRINICIPAL HUMAN RIGHTS SPECIA',\n",
       "       'TRAFFIC CONTROL INSPECTOR', 'ASSOCIATE INSPECTOR (HIGHWAYS',\n",
       "       'MARINE ENGINEER (WITH LICENSE)', 'ADMINISTRATIVE PARKS & RECREA',\n",
       "       'ASSOCIATE RETIREMENT BENEFITS', 'ADMINISTRATIVE LANDMARKS PRESE',\n",
       "       'SUPERVISING DOCKMASTER', 'ADMINISTRATIVE TAX AUDITOR',\n",
       "       'ASSOCIATE INSPECTOR (HOUSING)', 'INSPECTOR (CONSTRUCTION)',\n",
       "       'ADMINISTRATIVE PROJECT DIRECTO', 'EXEC ASST TO THE COMMISSIONER',\n",
       "       'LANDMARKS PRESERVATIONIST', \"WORKER'S COMPENSATION BENEFITS\",\n",
       "       'CONFIDENTIAL ASST OFFICE', 'DEPUTY CHIEF OF OPERATIONS (PA'],\n",
       "      dtype=object)"
      ]
     },
     "execution_count": 509,
     "metadata": {},
     "output_type": "execute_result"
    }
   ],
   "source": [
    "sal['Civil Service Title'].unique()"
   ]
  },
  {
   "cell_type": "code",
   "execution_count": 510,
   "metadata": {},
   "outputs": [
    {
     "data": {
      "text/plain": [
       "0       0.000000\n",
       "1       0.166667\n",
       "2       0.166667\n",
       "3       0.166667\n",
       "4       0.500000\n",
       "          ...   \n",
       "2941    0.166667\n",
       "2942    0.166667\n",
       "2943    0.208791\n",
       "2944    0.208791\n",
       "2945    0.263889\n",
       "Name: Civil Service Title, Length: 2946, dtype: float64"
      ]
     },
     "execution_count": 510,
     "metadata": {},
     "output_type": "execute_result"
    }
   ],
   "source": [
    "mean_Civil_Service_Title=sal.groupby(['Civil Service Title'])['Target_Satisfied'].mean().to_dict()\n",
    "sal['Civil Service Title']= sal['Civil Service Title'].map(mean_Civil_Service_Title)\n",
    "sal['Civil Service Title']"
   ]
  },
  {
   "cell_type": "markdown",
   "metadata": {},
   "source": [
    "'DevType'"
   ]
  },
  {
   "cell_type": "code",
   "execution_count": 511,
   "metadata": {},
   "outputs": [],
   "source": [
    "mean_ordinal_DevType=sal.groupby(['DevType'])['Target_Satisfied'].mean().to_dict()\n",
    "sal['DevType']= sal['DevType'].map(mean_ordinal_DevType)"
   ]
  },
  {
   "cell_type": "code",
   "execution_count": 512,
   "metadata": {},
   "outputs": [
    {
     "data": {
      "text/plain": [
       "array([0.20444444, 1.        , 0.25      , 0.23529412, 0.5       ,\n",
       "       0.        , 0.2       , 0.23684211, 0.125     , 0.0952381 ,\n",
       "       0.2283105 , 0.1       , 0.22695035, 0.16216216, 0.16666667,\n",
       "       0.21428571, 0.31578947, 0.11111111, 0.25714286, 0.33333333,\n",
       "       0.39130435, 0.4       , 0.18181818, 0.09677419, 0.45454545,\n",
       "       0.24444444, 0.22222222, 0.05882353, 0.42857143, 0.28571429,\n",
       "       0.24137931, 0.14285714, 0.26666667, 0.3125    , 0.27272727,\n",
       "       0.44444444, 0.27777778, 0.08333333, 0.375     , 0.57142857,\n",
       "       0.36363636, 0.66666667, 0.30769231, 0.23076923])"
      ]
     },
     "execution_count": 512,
     "metadata": {},
     "output_type": "execute_result"
    }
   ],
   "source": [
    "sal['DevType'].unique()"
   ]
  },
  {
   "cell_type": "markdown",
   "metadata": {},
   "source": [
    "'earliest_cr_line'"
   ]
  },
  {
   "cell_type": "code",
   "execution_count": 513,
   "metadata": {},
   "outputs": [
    {
     "data": {
      "text/plain": [
       "0       0.275862\n",
       "1       0.384615\n",
       "2       0.142857\n",
       "3       0.000000\n",
       "4       0.272727\n",
       "          ...   \n",
       "2941    0.230769\n",
       "2942    0.350000\n",
       "2943    0.384615\n",
       "2944    0.000000\n",
       "2945    0.076923\n",
       "Name: earliest_cr_line, Length: 2946, dtype: float64"
      ]
     },
     "execution_count": 513,
     "metadata": {},
     "output_type": "execute_result"
    }
   ],
   "source": [
    "mean_earliest_cr_line=sal.groupby(['earliest_cr_line'])['Target_Satisfied'].mean().to_dict()\n",
    "sal['earliest_cr_line']= sal['earliest_cr_line'].map(mean_earliest_cr_line)\n",
    "sal['earliest_cr_line']"
   ]
  },
  {
   "cell_type": "code",
   "execution_count": 514,
   "metadata": {},
   "outputs": [
    {
     "data": {
      "text/plain": [
       "array([0.27586207, 0.38461538, 0.14285714, 0.        , 0.27272727,\n",
       "       0.25      , 0.15384615, 0.23809524, 0.33333333, 0.22222222,\n",
       "       0.07142857, 0.23076923, 0.1875    , 0.4       , 0.16666667,\n",
       "       0.3       , 0.5       , 0.2       , 0.05263158, 0.41666667,\n",
       "       0.21052632, 0.125     , 0.41176471, 0.26315789, 0.23529412,\n",
       "       0.21428571, 0.0952381 , 0.07692308, 0.13333333, 0.09090909,\n",
       "       0.05      , 0.15789474, 0.14814815, 0.30769231, 0.17647059,\n",
       "       0.28571429, 0.57142857, 0.22727273, 0.11111111, 0.35      ,\n",
       "       0.18518519, 0.44444444, 0.26666667, 0.08333333, 0.17391304,\n",
       "       0.375     , 0.06666667, 0.31578947, 0.29411765, 0.08      ,\n",
       "       0.27777778, 0.1       , 0.66666667, 0.75      , 0.42857143,\n",
       "       0.18181818, 1.        , 0.36363636, 0.46153846, 0.35714286])"
      ]
     },
     "execution_count": 514,
     "metadata": {},
     "output_type": "execute_result"
    }
   ],
   "source": [
    "sal['earliest_cr_line'].unique()"
   ]
  },
  {
   "cell_type": "markdown",
   "metadata": {},
   "source": [
    "'purpose'"
   ]
  },
  {
   "cell_type": "code",
   "execution_count": 515,
   "metadata": {},
   "outputs": [],
   "source": [
    "mean_purpose=sal.groupby(['purpose'])['Target_Satisfied'].mean().to_dict()\n",
    "sal['purpose']= sal['purpose'].map(mean_purpose)"
   ]
  },
  {
   "cell_type": "code",
   "execution_count": 516,
   "metadata": {},
   "outputs": [
    {
     "data": {
      "text/plain": [
       "array([0.21952629, 0.3030303 , 0.2375    , 0.29090909, 0.15877437,\n",
       "       0.18120805, 0.41176471, 0.29411765, 0.29032258, 0.38095238,\n",
       "       0.38461538, 0.        ])"
      ]
     },
     "execution_count": 516,
     "metadata": {},
     "output_type": "execute_result"
    }
   ],
   "source": [
    "sal['purpose'].unique()"
   ]
  },
  {
   "cell_type": "markdown",
   "metadata": {},
   "source": [
    "'title'"
   ]
  },
  {
   "cell_type": "code",
   "execution_count": 517,
   "metadata": {},
   "outputs": [],
   "source": [
    "labels=sal.groupby(['title'])['Target_Satisfied'].mean().sort_values().index\n",
    "new_labels={k:v for v,k in enumerate(labels,0)}\n",
    "mean_ordinal=sal.groupby(['title'])['Target_Satisfied'].mean().to_dict()\n",
    "sal['title']= sal['title'].map(mean_ordinal)"
   ]
  },
  {
   "cell_type": "code",
   "execution_count": 518,
   "metadata": {},
   "outputs": [
    {
     "data": {
      "text/plain": [
       "array([0.22130665, 0.3030303 , 0.125     , 0.29090909, 0.16165951,\n",
       "       0.23717949, 0.18439716, 0.41176471, 0.29411765, 0.26666667,\n",
       "       0.38095238, 0.38461538, 0.        ])"
      ]
     },
     "execution_count": 518,
     "metadata": {},
     "output_type": "execute_result"
    }
   ],
   "source": [
    "sal['title'].unique()"
   ]
  },
  {
   "cell_type": "markdown",
   "metadata": {},
   "source": [
    "'last_pymnt_d'"
   ]
  },
  {
   "cell_type": "code",
   "execution_count": 519,
   "metadata": {},
   "outputs": [],
   "source": [
    "mean_last_pymnt_d=sal.groupby(['last_pymnt_d'])['Target_Satisfied'].mean().to_dict()\n",
    "sal['last_pymnt_d']= sal['last_pymnt_d'].map(mean_last_pymnt_d)"
   ]
  },
  {
   "cell_type": "code",
   "execution_count": 520,
   "metadata": {},
   "outputs": [
    {
     "data": {
      "text/plain": [
       "array([0.22297297, 0.29545455, 0.140625  , 0.21830986, 0.16666667,\n",
       "       0.23188406, 0.22916667, 0.23943662, 0.2       , 0.21212121,\n",
       "       0.125     , 0.12068966, 0.22807018, 0.07142857, 0.20408163,\n",
       "       0.23287671, 0.328125  , 0.26415094, 0.21153846, 0.18518519,\n",
       "       0.16346154, 0.1875    , 0.20289855, 0.1025641 , 0.2238806 ,\n",
       "       0.2109375 , 0.24137931, 0.22058824, 0.15625   , 0.22580645,\n",
       "       0.25      , 0.22413793, 0.13461538, 0.17073171, 0.25373134,\n",
       "       0.37096774, 0.26923077, 0.11538462, 0.11111111])"
      ]
     },
     "execution_count": 520,
     "metadata": {},
     "output_type": "execute_result"
    }
   ],
   "source": [
    "sal['last_pymnt_d'].unique()"
   ]
  },
  {
   "cell_type": "markdown",
   "metadata": {},
   "source": [
    "'last_credit_pull_d'"
   ]
  },
  {
   "cell_type": "code",
   "execution_count": 521,
   "metadata": {},
   "outputs": [],
   "source": [
    "mean_last_credit_pull_d=sal.groupby(['last_credit_pull_d'])['Target_Satisfied'].mean().to_dict()\n",
    "sal['last_credit_pull_d']= sal['last_credit_pull_d'].map(mean_last_credit_pull_d)"
   ]
  },
  {
   "cell_type": "code",
   "execution_count": 522,
   "metadata": {},
   "outputs": [
    {
     "data": {
      "text/plain": [
       "array([0.21289821, 0.16981132, 0.13636364, 0.21917808, 0.20689655,\n",
       "       0.13157895, 0.125     , 0.21875   , 0.        , 0.12244898,\n",
       "       0.12765957, 0.29032258, 0.18181818, 0.22289157, 0.22222222,\n",
       "       0.25806452, 0.2278481 , 0.08823529, 0.21052632, 0.25      ,\n",
       "       0.23809524, 0.20833333, 0.18918919, 0.23157895, 0.2       ,\n",
       "       0.22857143, 0.24637681, 0.26086957, 0.28571429, 0.26315789,\n",
       "       0.11111111, 0.33333333])"
      ]
     },
     "execution_count": 522,
     "metadata": {},
     "output_type": "execute_result"
    }
   ],
   "source": [
    "sal['last_credit_pull_d'].unique()"
   ]
  },
  {
   "cell_type": "code",
   "execution_count": 523,
   "metadata": {
    "scrolled": false
   },
   "outputs": [
    {
     "data": {
      "text/plain": [
       "0    2327\n",
       "1     619\n",
       "Name: Target_Satisfied, dtype: int64"
      ]
     },
     "execution_count": 523,
     "metadata": {},
     "output_type": "execute_result"
    }
   ],
   "source": [
    "sal[\"Target_Satisfied\"].value_counts()"
   ]
  },
  {
   "cell_type": "code",
   "execution_count": 524,
   "metadata": {},
   "outputs": [],
   "source": [
    "#Data type conversion of some features\n",
    "sal = sal.astype({\"loan_status\": int})\n",
    "sal = sal.astype({\"CompanySize\": int})"
   ]
  },
  {
   "cell_type": "markdown",
   "metadata": {},
   "source": [
    "### Creating new dataset using feature selection"
   ]
  },
  {
   "cell_type": "code",
   "execution_count": 525,
   "metadata": {},
   "outputs": [],
   "source": [
    "new_columns= ['id', 'Target_Salary', 'Target_Satisfied', 'LOAN_AMT', 'dti','Age', 'loan_status', 'JobSearchStatus', 'FormalEducation',\n",
    "            'HopeFiveYears','CompanySize',  'YearsCoding','emp_length', 'Civil Service Title','term','DevType', 'last_pymnt_amnt','earliest_cr_line','purpose','title','last_pymnt_d','last_credit_pull_d']\n",
    "sal_new=sal[new_columns]"
   ]
  },
  {
   "cell_type": "code",
   "execution_count": 526,
   "metadata": {
    "scrolled": true
   },
   "outputs": [
    {
     "data": {
      "text/html": [
       "<div>\n",
       "<style scoped>\n",
       "    .dataframe tbody tr th:only-of-type {\n",
       "        vertical-align: middle;\n",
       "    }\n",
       "\n",
       "    .dataframe tbody tr th {\n",
       "        vertical-align: top;\n",
       "    }\n",
       "\n",
       "    .dataframe thead th {\n",
       "        text-align: right;\n",
       "    }\n",
       "</style>\n",
       "<table border=\"1\" class=\"dataframe\">\n",
       "  <thead>\n",
       "    <tr style=\"text-align: right;\">\n",
       "      <th></th>\n",
       "      <th>id</th>\n",
       "      <th>Target_Salary</th>\n",
       "      <th>Target_Satisfied</th>\n",
       "      <th>LOAN_AMT</th>\n",
       "      <th>dti</th>\n",
       "      <th>Age</th>\n",
       "      <th>loan_status</th>\n",
       "      <th>JobSearchStatus</th>\n",
       "      <th>FormalEducation</th>\n",
       "      <th>HopeFiveYears</th>\n",
       "      <th>CompanySize</th>\n",
       "      <th>YearsCoding</th>\n",
       "      <th>emp_length</th>\n",
       "      <th>Civil Service Title</th>\n",
       "      <th>term</th>\n",
       "      <th>DevType</th>\n",
       "      <th>last_pymnt_amnt</th>\n",
       "      <th>earliest_cr_line</th>\n",
       "      <th>purpose</th>\n",
       "      <th>title</th>\n",
       "      <th>last_pymnt_d</th>\n",
       "      <th>last_credit_pull_d</th>\n",
       "    </tr>\n",
       "  </thead>\n",
       "  <tbody>\n",
       "    <tr>\n",
       "      <th>0</th>\n",
       "      <td>68407277</td>\n",
       "      <td>42405.00</td>\n",
       "      <td>0</td>\n",
       "      <td>3600.0</td>\n",
       "      <td>5.91</td>\n",
       "      <td>1</td>\n",
       "      <td>0</td>\n",
       "      <td>0</td>\n",
       "      <td>0</td>\n",
       "      <td>1</td>\n",
       "      <td>2</td>\n",
       "      <td>1</td>\n",
       "      <td>0.212719</td>\n",
       "      <td>0.000000</td>\n",
       "      <td>0</td>\n",
       "      <td>0.204444</td>\n",
       "      <td>122.67</td>\n",
       "      <td>0.275862</td>\n",
       "      <td>0.219526</td>\n",
       "      <td>0.221307</td>\n",
       "      <td>0.222973</td>\n",
       "      <td>0.212898</td>\n",
       "    </tr>\n",
       "    <tr>\n",
       "      <th>1</th>\n",
       "      <td>68355089</td>\n",
       "      <td>60740.00</td>\n",
       "      <td>1</td>\n",
       "      <td>24700.0</td>\n",
       "      <td>16.06</td>\n",
       "      <td>2</td>\n",
       "      <td>0</td>\n",
       "      <td>1</td>\n",
       "      <td>0</td>\n",
       "      <td>0</td>\n",
       "      <td>7</td>\n",
       "      <td>10</td>\n",
       "      <td>0.212719</td>\n",
       "      <td>0.166667</td>\n",
       "      <td>0</td>\n",
       "      <td>1.000000</td>\n",
       "      <td>926.35</td>\n",
       "      <td>0.384615</td>\n",
       "      <td>0.303030</td>\n",
       "      <td>0.303030</td>\n",
       "      <td>0.295455</td>\n",
       "      <td>0.212898</td>\n",
       "    </tr>\n",
       "    <tr>\n",
       "      <th>2</th>\n",
       "      <td>68341763</td>\n",
       "      <td>51907.68</td>\n",
       "      <td>0</td>\n",
       "      <td>20000.0</td>\n",
       "      <td>10.78</td>\n",
       "      <td>1</td>\n",
       "      <td>0</td>\n",
       "      <td>0</td>\n",
       "      <td>1</td>\n",
       "      <td>1</td>\n",
       "      <td>2</td>\n",
       "      <td>8</td>\n",
       "      <td>0.212719</td>\n",
       "      <td>0.166667</td>\n",
       "      <td>1</td>\n",
       "      <td>0.250000</td>\n",
       "      <td>15813.30</td>\n",
       "      <td>0.142857</td>\n",
       "      <td>0.237500</td>\n",
       "      <td>0.125000</td>\n",
       "      <td>0.140625</td>\n",
       "      <td>0.212898</td>\n",
       "    </tr>\n",
       "    <tr>\n",
       "      <th>3</th>\n",
       "      <td>66310712</td>\n",
       "      <td>51907.68</td>\n",
       "      <td>0</td>\n",
       "      <td>35000.0</td>\n",
       "      <td>17.06</td>\n",
       "      <td>2</td>\n",
       "      <td>2</td>\n",
       "      <td>0</td>\n",
       "      <td>0</td>\n",
       "      <td>1</td>\n",
       "      <td>3</td>\n",
       "      <td>6</td>\n",
       "      <td>0.189441</td>\n",
       "      <td>0.166667</td>\n",
       "      <td>1</td>\n",
       "      <td>0.204444</td>\n",
       "      <td>829.90</td>\n",
       "      <td>0.000000</td>\n",
       "      <td>0.219526</td>\n",
       "      <td>0.221307</td>\n",
       "      <td>0.218310</td>\n",
       "      <td>0.212898</td>\n",
       "    </tr>\n",
       "    <tr>\n",
       "      <th>4</th>\n",
       "      <td>68476807</td>\n",
       "      <td>35.00</td>\n",
       "      <td>1</td>\n",
       "      <td>10400.0</td>\n",
       "      <td>25.37</td>\n",
       "      <td>3</td>\n",
       "      <td>0</td>\n",
       "      <td>0</td>\n",
       "      <td>2</td>\n",
       "      <td>0</td>\n",
       "      <td>7</td>\n",
       "      <td>2</td>\n",
       "      <td>0.189441</td>\n",
       "      <td>0.500000</td>\n",
       "      <td>1</td>\n",
       "      <td>1.000000</td>\n",
       "      <td>10128.96</td>\n",
       "      <td>0.272727</td>\n",
       "      <td>0.290909</td>\n",
       "      <td>0.290909</td>\n",
       "      <td>0.166667</td>\n",
       "      <td>0.169811</td>\n",
       "    </tr>\n",
       "  </tbody>\n",
       "</table>\n",
       "</div>"
      ],
      "text/plain": [
       "         id  Target_Salary  Target_Satisfied  LOAN_AMT    dti  Age  \\\n",
       "0  68407277       42405.00                 0    3600.0   5.91    1   \n",
       "1  68355089       60740.00                 1   24700.0  16.06    2   \n",
       "2  68341763       51907.68                 0   20000.0  10.78    1   \n",
       "3  66310712       51907.68                 0   35000.0  17.06    2   \n",
       "4  68476807          35.00                 1   10400.0  25.37    3   \n",
       "\n",
       "   loan_status  JobSearchStatus  FormalEducation  HopeFiveYears  CompanySize  \\\n",
       "0            0                0                0              1            2   \n",
       "1            0                1                0              0            7   \n",
       "2            0                0                1              1            2   \n",
       "3            2                0                0              1            3   \n",
       "4            0                0                2              0            7   \n",
       "\n",
       "   YearsCoding  emp_length  Civil Service Title  term   DevType  \\\n",
       "0            1    0.212719             0.000000     0  0.204444   \n",
       "1           10    0.212719             0.166667     0  1.000000   \n",
       "2            8    0.212719             0.166667     1  0.250000   \n",
       "3            6    0.189441             0.166667     1  0.204444   \n",
       "4            2    0.189441             0.500000     1  1.000000   \n",
       "\n",
       "   last_pymnt_amnt  earliest_cr_line   purpose     title  last_pymnt_d  \\\n",
       "0           122.67          0.275862  0.219526  0.221307      0.222973   \n",
       "1           926.35          0.384615  0.303030  0.303030      0.295455   \n",
       "2         15813.30          0.142857  0.237500  0.125000      0.140625   \n",
       "3           829.90          0.000000  0.219526  0.221307      0.218310   \n",
       "4         10128.96          0.272727  0.290909  0.290909      0.166667   \n",
       "\n",
       "   last_credit_pull_d  \n",
       "0            0.212898  \n",
       "1            0.212898  \n",
       "2            0.212898  \n",
       "3            0.212898  \n",
       "4            0.169811  "
      ]
     },
     "execution_count": 526,
     "metadata": {},
     "output_type": "execute_result"
    }
   ],
   "source": [
    "sal_new.head(5)"
   ]
  },
  {
   "cell_type": "code",
   "execution_count": 527,
   "metadata": {},
   "outputs": [
    {
     "name": "stdout",
     "output_type": "stream",
     "text": [
      "<class 'pandas.core.frame.DataFrame'>\n",
      "RangeIndex: 2946 entries, 0 to 2945\n",
      "Data columns (total 22 columns):\n",
      " #   Column               Non-Null Count  Dtype  \n",
      "---  ------               --------------  -----  \n",
      " 0   id                   2946 non-null   int64  \n",
      " 1   Target_Salary        2946 non-null   float64\n",
      " 2   Target_Satisfied     2946 non-null   int64  \n",
      " 3   LOAN_AMT             2946 non-null   float64\n",
      " 4   dti                  2946 non-null   float64\n",
      " 5   Age                  2946 non-null   int64  \n",
      " 6   loan_status          2946 non-null   int32  \n",
      " 7   JobSearchStatus      2946 non-null   int64  \n",
      " 8   FormalEducation      2946 non-null   int64  \n",
      " 9   HopeFiveYears        2946 non-null   int64  \n",
      " 10  CompanySize          2946 non-null   int32  \n",
      " 11  YearsCoding          2946 non-null   int64  \n",
      " 12  emp_length           2946 non-null   float64\n",
      " 13  Civil Service Title  2946 non-null   float64\n",
      " 14  term                 2946 non-null   int32  \n",
      " 15  DevType              2946 non-null   float64\n",
      " 16  last_pymnt_amnt      2946 non-null   float64\n",
      " 17  earliest_cr_line     2946 non-null   float64\n",
      " 18  purpose              2946 non-null   float64\n",
      " 19  title                2946 non-null   float64\n",
      " 20  last_pymnt_d         2946 non-null   float64\n",
      " 21  last_credit_pull_d   2946 non-null   float64\n",
      "dtypes: float64(12), int32(3), int64(7)\n",
      "memory usage: 471.9 KB\n"
     ]
    }
   ],
   "source": [
    "sal_new.info()"
   ]
  },
  {
   "cell_type": "markdown",
   "metadata": {},
   "source": [
    "# Splitting data into test and train"
   ]
  },
  {
   "cell_type": "markdown",
   "metadata": {},
   "source": [
    "### Classification model to predict Target_Satisfied"
   ]
  },
  {
   "cell_type": "code",
   "execution_count": 528,
   "metadata": {},
   "outputs": [],
   "source": [
    "#prediction based on classification target\n",
    "x=sal_new.drop(['id','Target_Satisfied','Target_Salary'],axis=1)\n",
    "y=sal_new['Target_Satisfied']"
   ]
  },
  {
   "cell_type": "code",
   "execution_count": 529,
   "metadata": {
    "scrolled": true
   },
   "outputs": [],
   "source": [
    "#train set and test set spliting of dataset\n",
    "from sklearn.model_selection import train_test_split\n",
    "x_train,x_test,y_train,y_test=train_test_split(x,y,test_size=0.20,random_state=10)"
   ]
  },
  {
   "cell_type": "code",
   "execution_count": 530,
   "metadata": {},
   "outputs": [
    {
     "data": {
      "text/plain": [
       "'TRAINING_DATA'"
      ]
     },
     "metadata": {},
     "output_type": "display_data"
    },
    {
     "data": {
      "text/html": [
       "<div>\n",
       "<style scoped>\n",
       "    .dataframe tbody tr th:only-of-type {\n",
       "        vertical-align: middle;\n",
       "    }\n",
       "\n",
       "    .dataframe tbody tr th {\n",
       "        vertical-align: top;\n",
       "    }\n",
       "\n",
       "    .dataframe thead th {\n",
       "        text-align: right;\n",
       "    }\n",
       "</style>\n",
       "<table border=\"1\" class=\"dataframe\">\n",
       "  <thead>\n",
       "    <tr style=\"text-align: right;\">\n",
       "      <th></th>\n",
       "      <th>LOAN_AMT</th>\n",
       "      <th>dti</th>\n",
       "      <th>Age</th>\n",
       "      <th>loan_status</th>\n",
       "      <th>JobSearchStatus</th>\n",
       "      <th>FormalEducation</th>\n",
       "      <th>HopeFiveYears</th>\n",
       "      <th>CompanySize</th>\n",
       "      <th>YearsCoding</th>\n",
       "      <th>emp_length</th>\n",
       "      <th>Civil Service Title</th>\n",
       "      <th>term</th>\n",
       "      <th>DevType</th>\n",
       "      <th>last_pymnt_amnt</th>\n",
       "      <th>earliest_cr_line</th>\n",
       "      <th>purpose</th>\n",
       "      <th>title</th>\n",
       "      <th>last_pymnt_d</th>\n",
       "      <th>last_credit_pull_d</th>\n",
       "    </tr>\n",
       "  </thead>\n",
       "  <tbody>\n",
       "    <tr>\n",
       "      <th>1589</th>\n",
       "      <td>28000.0</td>\n",
       "      <td>31.77</td>\n",
       "      <td>1</td>\n",
       "      <td>0</td>\n",
       "      <td>0</td>\n",
       "      <td>0</td>\n",
       "      <td>1</td>\n",
       "      <td>1</td>\n",
       "      <td>1</td>\n",
       "      <td>0.212719</td>\n",
       "      <td>0.173913</td>\n",
       "      <td>1</td>\n",
       "      <td>0.226950</td>\n",
       "      <td>22979.54</td>\n",
       "      <td>0.214286</td>\n",
       "      <td>0.158774</td>\n",
       "      <td>0.161660</td>\n",
       "      <td>0.140625</td>\n",
       "      <td>0.222222</td>\n",
       "    </tr>\n",
       "    <tr>\n",
       "      <th>1068</th>\n",
       "      <td>12000.0</td>\n",
       "      <td>15.75</td>\n",
       "      <td>1</td>\n",
       "      <td>1</td>\n",
       "      <td>0</td>\n",
       "      <td>3</td>\n",
       "      <td>0</td>\n",
       "      <td>1</td>\n",
       "      <td>2</td>\n",
       "      <td>0.212719</td>\n",
       "      <td>0.263889</td>\n",
       "      <td>1</td>\n",
       "      <td>0.226950</td>\n",
       "      <td>275.75</td>\n",
       "      <td>0.275862</td>\n",
       "      <td>0.219526</td>\n",
       "      <td>0.221307</td>\n",
       "      <td>0.231884</td>\n",
       "      <td>0.212898</td>\n",
       "    </tr>\n",
       "    <tr>\n",
       "      <th>1927</th>\n",
       "      <td>20000.0</td>\n",
       "      <td>26.17</td>\n",
       "      <td>2</td>\n",
       "      <td>1</td>\n",
       "      <td>0</td>\n",
       "      <td>3</td>\n",
       "      <td>3</td>\n",
       "      <td>1</td>\n",
       "      <td>0</td>\n",
       "      <td>0.212719</td>\n",
       "      <td>0.142857</td>\n",
       "      <td>1</td>\n",
       "      <td>0.181818</td>\n",
       "      <td>432.66</td>\n",
       "      <td>0.000000</td>\n",
       "      <td>0.219526</td>\n",
       "      <td>0.221307</td>\n",
       "      <td>0.120690</td>\n",
       "      <td>0.212898</td>\n",
       "    </tr>\n",
       "    <tr>\n",
       "      <th>2270</th>\n",
       "      <td>22000.0</td>\n",
       "      <td>15.34</td>\n",
       "      <td>1</td>\n",
       "      <td>0</td>\n",
       "      <td>0</td>\n",
       "      <td>0</td>\n",
       "      <td>1</td>\n",
       "      <td>2</td>\n",
       "      <td>2</td>\n",
       "      <td>0.212719</td>\n",
       "      <td>0.219512</td>\n",
       "      <td>0</td>\n",
       "      <td>0.000000</td>\n",
       "      <td>13354.69</td>\n",
       "      <td>0.272727</td>\n",
       "      <td>0.158774</td>\n",
       "      <td>0.161660</td>\n",
       "      <td>0.140625</td>\n",
       "      <td>0.222222</td>\n",
       "    </tr>\n",
       "    <tr>\n",
       "      <th>426</th>\n",
       "      <td>8000.0</td>\n",
       "      <td>10.12</td>\n",
       "      <td>1</td>\n",
       "      <td>0</td>\n",
       "      <td>2</td>\n",
       "      <td>0</td>\n",
       "      <td>5</td>\n",
       "      <td>3</td>\n",
       "      <td>2</td>\n",
       "      <td>0.212719</td>\n",
       "      <td>0.500000</td>\n",
       "      <td>0</td>\n",
       "      <td>0.250000</td>\n",
       "      <td>3041.24</td>\n",
       "      <td>0.148148</td>\n",
       "      <td>0.219526</td>\n",
       "      <td>0.221307</td>\n",
       "      <td>0.120690</td>\n",
       "      <td>0.212898</td>\n",
       "    </tr>\n",
       "  </tbody>\n",
       "</table>\n",
       "</div>"
      ],
      "text/plain": [
       "      LOAN_AMT    dti  Age  loan_status  JobSearchStatus  FormalEducation  \\\n",
       "1589   28000.0  31.77    1            0                0                0   \n",
       "1068   12000.0  15.75    1            1                0                3   \n",
       "1927   20000.0  26.17    2            1                0                3   \n",
       "2270   22000.0  15.34    1            0                0                0   \n",
       "426     8000.0  10.12    1            0                2                0   \n",
       "\n",
       "      HopeFiveYears  CompanySize  YearsCoding  emp_length  \\\n",
       "1589              1            1            1    0.212719   \n",
       "1068              0            1            2    0.212719   \n",
       "1927              3            1            0    0.212719   \n",
       "2270              1            2            2    0.212719   \n",
       "426               5            3            2    0.212719   \n",
       "\n",
       "      Civil Service Title  term   DevType  last_pymnt_amnt  earliest_cr_line  \\\n",
       "1589             0.173913     1  0.226950         22979.54          0.214286   \n",
       "1068             0.263889     1  0.226950           275.75          0.275862   \n",
       "1927             0.142857     1  0.181818           432.66          0.000000   \n",
       "2270             0.219512     0  0.000000         13354.69          0.272727   \n",
       "426              0.500000     0  0.250000          3041.24          0.148148   \n",
       "\n",
       "       purpose     title  last_pymnt_d  last_credit_pull_d  \n",
       "1589  0.158774  0.161660      0.140625            0.222222  \n",
       "1068  0.219526  0.221307      0.231884            0.212898  \n",
       "1927  0.219526  0.221307      0.120690            0.212898  \n",
       "2270  0.158774  0.161660      0.140625            0.222222  \n",
       "426   0.219526  0.221307      0.120690            0.212898  "
      ]
     },
     "metadata": {},
     "output_type": "display_data"
    },
    {
     "data": {
      "text/plain": [
       "1589    0\n",
       "1068    1\n",
       "1927    0\n",
       "2270    0\n",
       "426     0\n",
       "Name: Target_Satisfied, dtype: int64"
      ]
     },
     "metadata": {},
     "output_type": "display_data"
    },
    {
     "data": {
      "text/plain": [
       "'TESTING_DATA'"
      ]
     },
     "metadata": {},
     "output_type": "display_data"
    },
    {
     "data": {
      "text/html": [
       "<div>\n",
       "<style scoped>\n",
       "    .dataframe tbody tr th:only-of-type {\n",
       "        vertical-align: middle;\n",
       "    }\n",
       "\n",
       "    .dataframe tbody tr th {\n",
       "        vertical-align: top;\n",
       "    }\n",
       "\n",
       "    .dataframe thead th {\n",
       "        text-align: right;\n",
       "    }\n",
       "</style>\n",
       "<table border=\"1\" class=\"dataframe\">\n",
       "  <thead>\n",
       "    <tr style=\"text-align: right;\">\n",
       "      <th></th>\n",
       "      <th>LOAN_AMT</th>\n",
       "      <th>dti</th>\n",
       "      <th>Age</th>\n",
       "      <th>loan_status</th>\n",
       "      <th>JobSearchStatus</th>\n",
       "      <th>FormalEducation</th>\n",
       "      <th>HopeFiveYears</th>\n",
       "      <th>CompanySize</th>\n",
       "      <th>YearsCoding</th>\n",
       "      <th>emp_length</th>\n",
       "      <th>Civil Service Title</th>\n",
       "      <th>term</th>\n",
       "      <th>DevType</th>\n",
       "      <th>last_pymnt_amnt</th>\n",
       "      <th>earliest_cr_line</th>\n",
       "      <th>purpose</th>\n",
       "      <th>title</th>\n",
       "      <th>last_pymnt_d</th>\n",
       "      <th>last_credit_pull_d</th>\n",
       "    </tr>\n",
       "  </thead>\n",
       "  <tbody>\n",
       "    <tr>\n",
       "      <th>2027</th>\n",
       "      <td>11400.0</td>\n",
       "      <td>12.21</td>\n",
       "      <td>1</td>\n",
       "      <td>0</td>\n",
       "      <td>1</td>\n",
       "      <td>0</td>\n",
       "      <td>0</td>\n",
       "      <td>2</td>\n",
       "      <td>3</td>\n",
       "      <td>0.212719</td>\n",
       "      <td>0.000000</td>\n",
       "      <td>0</td>\n",
       "      <td>0.000000</td>\n",
       "      <td>343.25</td>\n",
       "      <td>0.250000</td>\n",
       "      <td>0.158774</td>\n",
       "      <td>0.161660</td>\n",
       "      <td>0.222973</td>\n",
       "      <td>0.212898</td>\n",
       "    </tr>\n",
       "    <tr>\n",
       "      <th>863</th>\n",
       "      <td>20000.0</td>\n",
       "      <td>7.10</td>\n",
       "      <td>1</td>\n",
       "      <td>0</td>\n",
       "      <td>0</td>\n",
       "      <td>0</td>\n",
       "      <td>0</td>\n",
       "      <td>2</td>\n",
       "      <td>1</td>\n",
       "      <td>0.212719</td>\n",
       "      <td>0.444444</td>\n",
       "      <td>0</td>\n",
       "      <td>0.000000</td>\n",
       "      <td>19202.74</td>\n",
       "      <td>0.176471</td>\n",
       "      <td>0.219526</td>\n",
       "      <td>0.221307</td>\n",
       "      <td>0.170732</td>\n",
       "      <td>0.285714</td>\n",
       "    </tr>\n",
       "    <tr>\n",
       "      <th>183</th>\n",
       "      <td>28000.0</td>\n",
       "      <td>24.83</td>\n",
       "      <td>1</td>\n",
       "      <td>0</td>\n",
       "      <td>0</td>\n",
       "      <td>2</td>\n",
       "      <td>1</td>\n",
       "      <td>1</td>\n",
       "      <td>1</td>\n",
       "      <td>0.204082</td>\n",
       "      <td>0.166667</td>\n",
       "      <td>1</td>\n",
       "      <td>0.200000</td>\n",
       "      <td>17440.21</td>\n",
       "      <td>0.375000</td>\n",
       "      <td>0.219526</td>\n",
       "      <td>0.221307</td>\n",
       "      <td>0.224138</td>\n",
       "      <td>0.231579</td>\n",
       "    </tr>\n",
       "    <tr>\n",
       "      <th>2337</th>\n",
       "      <td>16000.0</td>\n",
       "      <td>20.92</td>\n",
       "      <td>3</td>\n",
       "      <td>2</td>\n",
       "      <td>2</td>\n",
       "      <td>0</td>\n",
       "      <td>2</td>\n",
       "      <td>7</td>\n",
       "      <td>3</td>\n",
       "      <td>0.212719</td>\n",
       "      <td>0.400000</td>\n",
       "      <td>1</td>\n",
       "      <td>1.000000</td>\n",
       "      <td>333.46</td>\n",
       "      <td>0.384615</td>\n",
       "      <td>0.158774</td>\n",
       "      <td>0.161660</td>\n",
       "      <td>0.218310</td>\n",
       "      <td>0.212898</td>\n",
       "    </tr>\n",
       "    <tr>\n",
       "      <th>2523</th>\n",
       "      <td>25200.0</td>\n",
       "      <td>16.31</td>\n",
       "      <td>1</td>\n",
       "      <td>0</td>\n",
       "      <td>0</td>\n",
       "      <td>0</td>\n",
       "      <td>0</td>\n",
       "      <td>2</td>\n",
       "      <td>1</td>\n",
       "      <td>0.212719</td>\n",
       "      <td>0.212121</td>\n",
       "      <td>0</td>\n",
       "      <td>0.083333</td>\n",
       "      <td>6135.36</td>\n",
       "      <td>0.350000</td>\n",
       "      <td>0.219526</td>\n",
       "      <td>0.221307</td>\n",
       "      <td>0.269231</td>\n",
       "      <td>0.238095</td>\n",
       "    </tr>\n",
       "  </tbody>\n",
       "</table>\n",
       "</div>"
      ],
      "text/plain": [
       "      LOAN_AMT    dti  Age  loan_status  JobSearchStatus  FormalEducation  \\\n",
       "2027   11400.0  12.21    1            0                1                0   \n",
       "863    20000.0   7.10    1            0                0                0   \n",
       "183    28000.0  24.83    1            0                0                2   \n",
       "2337   16000.0  20.92    3            2                2                0   \n",
       "2523   25200.0  16.31    1            0                0                0   \n",
       "\n",
       "      HopeFiveYears  CompanySize  YearsCoding  emp_length  \\\n",
       "2027              0            2            3    0.212719   \n",
       "863               0            2            1    0.212719   \n",
       "183               1            1            1    0.204082   \n",
       "2337              2            7            3    0.212719   \n",
       "2523              0            2            1    0.212719   \n",
       "\n",
       "      Civil Service Title  term   DevType  last_pymnt_amnt  earliest_cr_line  \\\n",
       "2027             0.000000     0  0.000000           343.25          0.250000   \n",
       "863              0.444444     0  0.000000         19202.74          0.176471   \n",
       "183              0.166667     1  0.200000         17440.21          0.375000   \n",
       "2337             0.400000     1  1.000000           333.46          0.384615   \n",
       "2523             0.212121     0  0.083333          6135.36          0.350000   \n",
       "\n",
       "       purpose     title  last_pymnt_d  last_credit_pull_d  \n",
       "2027  0.158774  0.161660      0.222973            0.212898  \n",
       "863   0.219526  0.221307      0.170732            0.285714  \n",
       "183   0.219526  0.221307      0.224138            0.231579  \n",
       "2337  0.158774  0.161660      0.218310            0.212898  \n",
       "2523  0.219526  0.221307      0.269231            0.238095  "
      ]
     },
     "metadata": {},
     "output_type": "display_data"
    },
    {
     "data": {
      "text/plain": [
       "2027    0\n",
       "863     0\n",
       "183     0\n",
       "2337    1\n",
       "2523    0\n",
       "Name: Target_Satisfied, dtype: int64"
      ]
     },
     "metadata": {},
     "output_type": "display_data"
    }
   ],
   "source": [
    "display('TRAINING_DATA',x_train.head(),y_train.head(),'TESTING_DATA',x_test.head(),y_test.head())"
   ]
  },
  {
   "cell_type": "code",
   "execution_count": 531,
   "metadata": {},
   "outputs": [],
   "source": [
    "from sklearn.preprocessing import StandardScaler , MinMaxScaler \n",
    "\n",
    "sc = StandardScaler()\n",
    "\n",
    "min_max = MinMaxScaler()\n",
    "\n",
    "x_train_scaled = min_max.fit_transform(x_train)\n",
    "\n",
    "x_test_scaled = min_max.fit_transform(x_test) "
   ]
  },
  {
   "cell_type": "code",
   "execution_count": 532,
   "metadata": {},
   "outputs": [],
   "source": [
    "from sklearn.ensemble import RandomForestClassifier\n",
    "# Accuracy\n",
    "from sklearn.metrics import confusion_matrix\n",
    "from sklearn.metrics import precision_score, recall_score\n",
    "from sklearn.metrics import f1_score\n",
    "from sklearn.model_selection import GridSearchCV"
   ]
  },
  {
   "cell_type": "code",
   "execution_count": 533,
   "metadata": {},
   "outputs": [],
   "source": [
    "# max_features = ['auto', 'sqrt','log2']\n",
    "\n",
    "# bootstrap = [True, False]\n",
    "\n",
    "#param={\"max_depth\" : [1,3,5,7,9,11,12],\n",
    "#       \"min_samples_leaf\":[1,2,3,4,5,6,7,8,9,10],\n",
    "#       \"max_leaf_nodes\":[None,10,20,30,40,50,60,70,80,90],\n",
    "#       \"max_features\" : max_features,\n",
    " #      \"n_estimators\":[10,20,30,35,40,55,62,70,80,90],\n",
    "#       \"bootstrap\": bootstrap}\n"
   ]
  },
  {
   "cell_type": "code",
   "execution_count": 534,
   "metadata": {},
   "outputs": [],
   "source": [
    "\n",
    "n_estimators = [int(x) for x in np.linspace(start = 10, stop = 100, num = 10)]\n",
    "\n",
    "max_features = ['auto', 'sqrt','log2']\n",
    "\n",
    "max_depth = [2,5,8,9,10]\n",
    "\n",
    "min_samples_split = [2, 6,9,11,15]\n",
    "\n",
    "min_samples_leaf = [3,5,10,18,20]\n",
    "\n",
    "bootstrap = [True, False]\n",
    "\n",
    "#Create the param grid\n",
    "param = {'n_estimators': n_estimators,\n",
    "              'max_features': max_features,\n",
    "              'max_depth': max_depth,\n",
    "              'min_samples_split': min_samples_split,\n",
    "              'min_samples_leaf': min_samples_leaf,\n",
    "              'bootstrap': bootstrap}"
   ]
  },
  {
   "cell_type": "code",
   "execution_count": 535,
   "metadata": {},
   "outputs": [],
   "source": [
    "#grid_CV=GridSearchCV(RandomForestClassifier(),param_grid=param,cv=10,verbose=2, n_jobs = 4)\n",
    "#grid_CV.fit(x_train,y_train)\n",
    "#print(grid_CV.best_params_)\n",
    "#print(grid_CV.best_score_)\n"
   ]
  },
  {
   "cell_type": "code",
   "execution_count": 536,
   "metadata": {},
   "outputs": [],
   "source": [
    "classifier=RandomForestClassifier( bootstrap=True,max_depth= 10, max_features= 'sqrt', min_samples_leaf= 5, min_samples_split= 2, n_estimators= 70)\n",
    "classifier.fit(x_train,y_train)\n",
    "pred_y=classifier.predict(x_test)\n"
   ]
  },
  {
   "cell_type": "code",
   "execution_count": 537,
   "metadata": {
    "scrolled": false
   },
   "outputs": [
    {
     "name": "stdout",
     "output_type": "stream",
     "text": [
      "confusion_matrix :\n",
      "  [[456   6]\n",
      " [ 75  53]]\n"
     ]
    }
   ],
   "source": [
    "#confusion matrix\n",
    "confusion_matrix(y_test,pred_y)\n",
    "print(\"confusion_matrix :\\n  {}\".format(confusion_matrix(y_test,pred_y)))"
   ]
  },
  {
   "cell_type": "code",
   "execution_count": 538,
   "metadata": {},
   "outputs": [],
   "source": [
    "from sklearn.metrics import classification_report\n",
    "from sklearn import metrics"
   ]
  },
  {
   "cell_type": "code",
   "execution_count": 539,
   "metadata": {},
   "outputs": [
    {
     "name": "stdout",
     "output_type": "stream",
     "text": [
      "F1 SCORE 0.5668449197860963\n"
     ]
    }
   ],
   "source": [
    "print('F1 SCORE',metrics.f1_score(y_test,pred_y))\n"
   ]
  },
  {
   "cell_type": "code",
   "execution_count": 540,
   "metadata": {
    "scrolled": true
   },
   "outputs": [
    {
     "name": "stdout",
     "output_type": "stream",
     "text": [
      "              precision    recall  f1-score   support\n",
      "\n",
      "           0       0.86      0.99      0.92       462\n",
      "           1       0.90      0.41      0.57       128\n",
      "\n",
      "    accuracy                           0.86       590\n",
      "   macro avg       0.88      0.70      0.74       590\n",
      "weighted avg       0.87      0.86      0.84       590\n",
      "\n"
     ]
    }
   ],
   "source": [
    "\n",
    "print(classification_report(y_test, pred_y))"
   ]
  },
  {
   "cell_type": "markdown",
   "metadata": {},
   "source": [
    "### Regression model to predict Target_Salary"
   ]
  },
  {
   "cell_type": "code",
   "execution_count": 541,
   "metadata": {},
   "outputs": [],
   "source": [
    "#prediction based on regression target\n",
    "x=sal_new.drop(['id','Target_Satisfied','Target_Salary'],axis=1)\n",
    "Y=sal_new['Target_Salary']"
   ]
  },
  {
   "cell_type": "code",
   "execution_count": 542,
   "metadata": {},
   "outputs": [],
   "source": [
    "#train set and test set spliting of dataset\n",
    "from sklearn.model_selection import train_test_split\n",
    "X_train,X_test,Y_train,Y_test=train_test_split(x,Y,test_size=0.20,random_state=100)"
   ]
  },
  {
   "cell_type": "code",
   "execution_count": 543,
   "metadata": {},
   "outputs": [
    {
     "data": {
      "text/plain": [
       "'TRAINING_DATA'"
      ]
     },
     "metadata": {},
     "output_type": "display_data"
    },
    {
     "data": {
      "text/html": [
       "<div>\n",
       "<style scoped>\n",
       "    .dataframe tbody tr th:only-of-type {\n",
       "        vertical-align: middle;\n",
       "    }\n",
       "\n",
       "    .dataframe tbody tr th {\n",
       "        vertical-align: top;\n",
       "    }\n",
       "\n",
       "    .dataframe thead th {\n",
       "        text-align: right;\n",
       "    }\n",
       "</style>\n",
       "<table border=\"1\" class=\"dataframe\">\n",
       "  <thead>\n",
       "    <tr style=\"text-align: right;\">\n",
       "      <th></th>\n",
       "      <th>LOAN_AMT</th>\n",
       "      <th>dti</th>\n",
       "      <th>Age</th>\n",
       "      <th>loan_status</th>\n",
       "      <th>JobSearchStatus</th>\n",
       "      <th>FormalEducation</th>\n",
       "      <th>HopeFiveYears</th>\n",
       "      <th>CompanySize</th>\n",
       "      <th>YearsCoding</th>\n",
       "      <th>emp_length</th>\n",
       "      <th>Civil Service Title</th>\n",
       "      <th>term</th>\n",
       "      <th>DevType</th>\n",
       "      <th>last_pymnt_amnt</th>\n",
       "      <th>earliest_cr_line</th>\n",
       "      <th>purpose</th>\n",
       "      <th>title</th>\n",
       "      <th>last_pymnt_d</th>\n",
       "      <th>last_credit_pull_d</th>\n",
       "    </tr>\n",
       "  </thead>\n",
       "  <tbody>\n",
       "    <tr>\n",
       "      <th>1589</th>\n",
       "      <td>28000.0</td>\n",
       "      <td>31.77</td>\n",
       "      <td>1</td>\n",
       "      <td>0</td>\n",
       "      <td>0</td>\n",
       "      <td>0</td>\n",
       "      <td>1</td>\n",
       "      <td>1</td>\n",
       "      <td>1</td>\n",
       "      <td>0.212719</td>\n",
       "      <td>0.173913</td>\n",
       "      <td>1</td>\n",
       "      <td>0.226950</td>\n",
       "      <td>22979.54</td>\n",
       "      <td>0.214286</td>\n",
       "      <td>0.158774</td>\n",
       "      <td>0.161660</td>\n",
       "      <td>0.140625</td>\n",
       "      <td>0.222222</td>\n",
       "    </tr>\n",
       "    <tr>\n",
       "      <th>1068</th>\n",
       "      <td>12000.0</td>\n",
       "      <td>15.75</td>\n",
       "      <td>1</td>\n",
       "      <td>1</td>\n",
       "      <td>0</td>\n",
       "      <td>3</td>\n",
       "      <td>0</td>\n",
       "      <td>1</td>\n",
       "      <td>2</td>\n",
       "      <td>0.212719</td>\n",
       "      <td>0.263889</td>\n",
       "      <td>1</td>\n",
       "      <td>0.226950</td>\n",
       "      <td>275.75</td>\n",
       "      <td>0.275862</td>\n",
       "      <td>0.219526</td>\n",
       "      <td>0.221307</td>\n",
       "      <td>0.231884</td>\n",
       "      <td>0.212898</td>\n",
       "    </tr>\n",
       "    <tr>\n",
       "      <th>1927</th>\n",
       "      <td>20000.0</td>\n",
       "      <td>26.17</td>\n",
       "      <td>2</td>\n",
       "      <td>1</td>\n",
       "      <td>0</td>\n",
       "      <td>3</td>\n",
       "      <td>3</td>\n",
       "      <td>1</td>\n",
       "      <td>0</td>\n",
       "      <td>0.212719</td>\n",
       "      <td>0.142857</td>\n",
       "      <td>1</td>\n",
       "      <td>0.181818</td>\n",
       "      <td>432.66</td>\n",
       "      <td>0.000000</td>\n",
       "      <td>0.219526</td>\n",
       "      <td>0.221307</td>\n",
       "      <td>0.120690</td>\n",
       "      <td>0.212898</td>\n",
       "    </tr>\n",
       "    <tr>\n",
       "      <th>2270</th>\n",
       "      <td>22000.0</td>\n",
       "      <td>15.34</td>\n",
       "      <td>1</td>\n",
       "      <td>0</td>\n",
       "      <td>0</td>\n",
       "      <td>0</td>\n",
       "      <td>1</td>\n",
       "      <td>2</td>\n",
       "      <td>2</td>\n",
       "      <td>0.212719</td>\n",
       "      <td>0.219512</td>\n",
       "      <td>0</td>\n",
       "      <td>0.000000</td>\n",
       "      <td>13354.69</td>\n",
       "      <td>0.272727</td>\n",
       "      <td>0.158774</td>\n",
       "      <td>0.161660</td>\n",
       "      <td>0.140625</td>\n",
       "      <td>0.222222</td>\n",
       "    </tr>\n",
       "    <tr>\n",
       "      <th>426</th>\n",
       "      <td>8000.0</td>\n",
       "      <td>10.12</td>\n",
       "      <td>1</td>\n",
       "      <td>0</td>\n",
       "      <td>2</td>\n",
       "      <td>0</td>\n",
       "      <td>5</td>\n",
       "      <td>3</td>\n",
       "      <td>2</td>\n",
       "      <td>0.212719</td>\n",
       "      <td>0.500000</td>\n",
       "      <td>0</td>\n",
       "      <td>0.250000</td>\n",
       "      <td>3041.24</td>\n",
       "      <td>0.148148</td>\n",
       "      <td>0.219526</td>\n",
       "      <td>0.221307</td>\n",
       "      <td>0.120690</td>\n",
       "      <td>0.212898</td>\n",
       "    </tr>\n",
       "  </tbody>\n",
       "</table>\n",
       "</div>"
      ],
      "text/plain": [
       "      LOAN_AMT    dti  Age  loan_status  JobSearchStatus  FormalEducation  \\\n",
       "1589   28000.0  31.77    1            0                0                0   \n",
       "1068   12000.0  15.75    1            1                0                3   \n",
       "1927   20000.0  26.17    2            1                0                3   \n",
       "2270   22000.0  15.34    1            0                0                0   \n",
       "426     8000.0  10.12    1            0                2                0   \n",
       "\n",
       "      HopeFiveYears  CompanySize  YearsCoding  emp_length  \\\n",
       "1589              1            1            1    0.212719   \n",
       "1068              0            1            2    0.212719   \n",
       "1927              3            1            0    0.212719   \n",
       "2270              1            2            2    0.212719   \n",
       "426               5            3            2    0.212719   \n",
       "\n",
       "      Civil Service Title  term   DevType  last_pymnt_amnt  earliest_cr_line  \\\n",
       "1589             0.173913     1  0.226950         22979.54          0.214286   \n",
       "1068             0.263889     1  0.226950           275.75          0.275862   \n",
       "1927             0.142857     1  0.181818           432.66          0.000000   \n",
       "2270             0.219512     0  0.000000         13354.69          0.272727   \n",
       "426              0.500000     0  0.250000          3041.24          0.148148   \n",
       "\n",
       "       purpose     title  last_pymnt_d  last_credit_pull_d  \n",
       "1589  0.158774  0.161660      0.140625            0.222222  \n",
       "1068  0.219526  0.221307      0.231884            0.212898  \n",
       "1927  0.219526  0.221307      0.120690            0.212898  \n",
       "2270  0.158774  0.161660      0.140625            0.222222  \n",
       "426   0.219526  0.221307      0.120690            0.212898  "
      ]
     },
     "metadata": {},
     "output_type": "display_data"
    },
    {
     "data": {
      "text/plain": [
       "1589    0\n",
       "1068    1\n",
       "1927    0\n",
       "2270    0\n",
       "426     0\n",
       "Name: Target_Satisfied, dtype: int64"
      ]
     },
     "metadata": {},
     "output_type": "display_data"
    },
    {
     "data": {
      "text/plain": [
       "'TESTING_DATA'"
      ]
     },
     "metadata": {},
     "output_type": "display_data"
    },
    {
     "data": {
      "text/html": [
       "<div>\n",
       "<style scoped>\n",
       "    .dataframe tbody tr th:only-of-type {\n",
       "        vertical-align: middle;\n",
       "    }\n",
       "\n",
       "    .dataframe tbody tr th {\n",
       "        vertical-align: top;\n",
       "    }\n",
       "\n",
       "    .dataframe thead th {\n",
       "        text-align: right;\n",
       "    }\n",
       "</style>\n",
       "<table border=\"1\" class=\"dataframe\">\n",
       "  <thead>\n",
       "    <tr style=\"text-align: right;\">\n",
       "      <th></th>\n",
       "      <th>LOAN_AMT</th>\n",
       "      <th>dti</th>\n",
       "      <th>Age</th>\n",
       "      <th>loan_status</th>\n",
       "      <th>JobSearchStatus</th>\n",
       "      <th>FormalEducation</th>\n",
       "      <th>HopeFiveYears</th>\n",
       "      <th>CompanySize</th>\n",
       "      <th>YearsCoding</th>\n",
       "      <th>emp_length</th>\n",
       "      <th>Civil Service Title</th>\n",
       "      <th>term</th>\n",
       "      <th>DevType</th>\n",
       "      <th>last_pymnt_amnt</th>\n",
       "      <th>earliest_cr_line</th>\n",
       "      <th>purpose</th>\n",
       "      <th>title</th>\n",
       "      <th>last_pymnt_d</th>\n",
       "      <th>last_credit_pull_d</th>\n",
       "    </tr>\n",
       "  </thead>\n",
       "  <tbody>\n",
       "    <tr>\n",
       "      <th>2027</th>\n",
       "      <td>11400.0</td>\n",
       "      <td>12.21</td>\n",
       "      <td>1</td>\n",
       "      <td>0</td>\n",
       "      <td>1</td>\n",
       "      <td>0</td>\n",
       "      <td>0</td>\n",
       "      <td>2</td>\n",
       "      <td>3</td>\n",
       "      <td>0.212719</td>\n",
       "      <td>0.000000</td>\n",
       "      <td>0</td>\n",
       "      <td>0.000000</td>\n",
       "      <td>343.25</td>\n",
       "      <td>0.250000</td>\n",
       "      <td>0.158774</td>\n",
       "      <td>0.161660</td>\n",
       "      <td>0.222973</td>\n",
       "      <td>0.212898</td>\n",
       "    </tr>\n",
       "    <tr>\n",
       "      <th>863</th>\n",
       "      <td>20000.0</td>\n",
       "      <td>7.10</td>\n",
       "      <td>1</td>\n",
       "      <td>0</td>\n",
       "      <td>0</td>\n",
       "      <td>0</td>\n",
       "      <td>0</td>\n",
       "      <td>2</td>\n",
       "      <td>1</td>\n",
       "      <td>0.212719</td>\n",
       "      <td>0.444444</td>\n",
       "      <td>0</td>\n",
       "      <td>0.000000</td>\n",
       "      <td>19202.74</td>\n",
       "      <td>0.176471</td>\n",
       "      <td>0.219526</td>\n",
       "      <td>0.221307</td>\n",
       "      <td>0.170732</td>\n",
       "      <td>0.285714</td>\n",
       "    </tr>\n",
       "    <tr>\n",
       "      <th>183</th>\n",
       "      <td>28000.0</td>\n",
       "      <td>24.83</td>\n",
       "      <td>1</td>\n",
       "      <td>0</td>\n",
       "      <td>0</td>\n",
       "      <td>2</td>\n",
       "      <td>1</td>\n",
       "      <td>1</td>\n",
       "      <td>1</td>\n",
       "      <td>0.204082</td>\n",
       "      <td>0.166667</td>\n",
       "      <td>1</td>\n",
       "      <td>0.200000</td>\n",
       "      <td>17440.21</td>\n",
       "      <td>0.375000</td>\n",
       "      <td>0.219526</td>\n",
       "      <td>0.221307</td>\n",
       "      <td>0.224138</td>\n",
       "      <td>0.231579</td>\n",
       "    </tr>\n",
       "    <tr>\n",
       "      <th>2337</th>\n",
       "      <td>16000.0</td>\n",
       "      <td>20.92</td>\n",
       "      <td>3</td>\n",
       "      <td>2</td>\n",
       "      <td>2</td>\n",
       "      <td>0</td>\n",
       "      <td>2</td>\n",
       "      <td>7</td>\n",
       "      <td>3</td>\n",
       "      <td>0.212719</td>\n",
       "      <td>0.400000</td>\n",
       "      <td>1</td>\n",
       "      <td>1.000000</td>\n",
       "      <td>333.46</td>\n",
       "      <td>0.384615</td>\n",
       "      <td>0.158774</td>\n",
       "      <td>0.161660</td>\n",
       "      <td>0.218310</td>\n",
       "      <td>0.212898</td>\n",
       "    </tr>\n",
       "    <tr>\n",
       "      <th>2523</th>\n",
       "      <td>25200.0</td>\n",
       "      <td>16.31</td>\n",
       "      <td>1</td>\n",
       "      <td>0</td>\n",
       "      <td>0</td>\n",
       "      <td>0</td>\n",
       "      <td>0</td>\n",
       "      <td>2</td>\n",
       "      <td>1</td>\n",
       "      <td>0.212719</td>\n",
       "      <td>0.212121</td>\n",
       "      <td>0</td>\n",
       "      <td>0.083333</td>\n",
       "      <td>6135.36</td>\n",
       "      <td>0.350000</td>\n",
       "      <td>0.219526</td>\n",
       "      <td>0.221307</td>\n",
       "      <td>0.269231</td>\n",
       "      <td>0.238095</td>\n",
       "    </tr>\n",
       "  </tbody>\n",
       "</table>\n",
       "</div>"
      ],
      "text/plain": [
       "      LOAN_AMT    dti  Age  loan_status  JobSearchStatus  FormalEducation  \\\n",
       "2027   11400.0  12.21    1            0                1                0   \n",
       "863    20000.0   7.10    1            0                0                0   \n",
       "183    28000.0  24.83    1            0                0                2   \n",
       "2337   16000.0  20.92    3            2                2                0   \n",
       "2523   25200.0  16.31    1            0                0                0   \n",
       "\n",
       "      HopeFiveYears  CompanySize  YearsCoding  emp_length  \\\n",
       "2027              0            2            3    0.212719   \n",
       "863               0            2            1    0.212719   \n",
       "183               1            1            1    0.204082   \n",
       "2337              2            7            3    0.212719   \n",
       "2523              0            2            1    0.212719   \n",
       "\n",
       "      Civil Service Title  term   DevType  last_pymnt_amnt  earliest_cr_line  \\\n",
       "2027             0.000000     0  0.000000           343.25          0.250000   \n",
       "863              0.444444     0  0.000000         19202.74          0.176471   \n",
       "183              0.166667     1  0.200000         17440.21          0.375000   \n",
       "2337             0.400000     1  1.000000           333.46          0.384615   \n",
       "2523             0.212121     0  0.083333          6135.36          0.350000   \n",
       "\n",
       "       purpose     title  last_pymnt_d  last_credit_pull_d  \n",
       "2027  0.158774  0.161660      0.222973            0.212898  \n",
       "863   0.219526  0.221307      0.170732            0.285714  \n",
       "183   0.219526  0.221307      0.224138            0.231579  \n",
       "2337  0.158774  0.161660      0.218310            0.212898  \n",
       "2523  0.219526  0.221307      0.269231            0.238095  "
      ]
     },
     "metadata": {},
     "output_type": "display_data"
    },
    {
     "data": {
      "text/plain": [
       "2027    0\n",
       "863     0\n",
       "183     0\n",
       "2337    1\n",
       "2523    0\n",
       "Name: Target_Satisfied, dtype: int64"
      ]
     },
     "metadata": {},
     "output_type": "display_data"
    }
   ],
   "source": [
    "display('TRAINING_DATA',x_train.head(),y_train.head(),'TESTING_DATA',x_test.head(),y_test.head())"
   ]
  },
  {
   "cell_type": "code",
   "execution_count": 544,
   "metadata": {},
   "outputs": [],
   "source": [
    "from sklearn.ensemble import RandomForestRegressor"
   ]
  },
  {
   "cell_type": "code",
   "execution_count": 545,
   "metadata": {},
   "outputs": [],
   "source": [
    "Regressor=RandomForestRegressor(n_estimators=20,max_features='sqrt')\n"
   ]
  },
  {
   "cell_type": "code",
   "execution_count": 546,
   "metadata": {},
   "outputs": [],
   "source": [
    "# Evaluating the test test data\n",
    "Regressor.fit(X_train, y_train)\n",
    "y_pred=Regressor.predict(X_test)"
   ]
  },
  {
   "cell_type": "code",
   "execution_count": 547,
   "metadata": {},
   "outputs": [],
   "source": [
    "from sklearn.metrics import mean_squared_error ,mean_absolute_error , r2_score\n",
    "from math import sqrt"
   ]
  },
  {
   "cell_type": "code",
   "execution_count": 548,
   "metadata": {},
   "outputs": [
    {
     "name": "stdout",
     "output_type": "stream",
     "text": [
      "ROOT MEAN SQUERE ERROR:  64422.611343890145\n"
     ]
    }
   ],
   "source": [
    "# Finding the Root Mean Squre Error\n",
    "rmse = sqrt(mean_squared_error(Y_test, y_pred))\n",
    "print('ROOT MEAN SQUERE ERROR: ',rmse)"
   ]
  },
  {
   "cell_type": "code",
   "execution_count": null,
   "metadata": {},
   "outputs": [],
   "source": []
  },
  {
   "cell_type": "code",
   "execution_count": null,
   "metadata": {},
   "outputs": [],
   "source": []
  }
 ],
 "metadata": {
  "kernelspec": {
   "display_name": "Python 3",
   "language": "python",
   "name": "python3"
  }
 },
 "nbformat": 4,
 "nbformat_minor": 4
}
